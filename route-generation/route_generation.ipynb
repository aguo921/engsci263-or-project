{
 "cells": [
  {
   "cell_type": "code",
   "execution_count": 1,
   "metadata": {},
   "outputs": [],
   "source": [
    "import pandas as pd\n",
    "import random\n",
    "\n",
    "from route_generation import *"
   ]
  },
  {
   "cell_type": "code",
   "execution_count": 2,
   "metadata": {},
   "outputs": [],
   "source": [
    "regions = read_regions(\"Regions.csv\")"
   ]
  },
  {
   "cell_type": "code",
   "execution_count": 3,
   "metadata": {},
   "outputs": [
    {
     "data": {
      "text/html": [
       "<div>\n",
       "<style scoped>\n",
       "    .dataframe tbody tr th:only-of-type {\n",
       "        vertical-align: middle;\n",
       "    }\n",
       "\n",
       "    .dataframe tbody tr th {\n",
       "        vertical-align: top;\n",
       "    }\n",
       "\n",
       "    .dataframe thead th {\n",
       "        text-align: right;\n",
       "    }\n",
       "</style>\n",
       "<table border=\"1\" class=\"dataframe\">\n",
       "  <thead>\n",
       "    <tr style=\"text-align: right;\">\n",
       "      <th></th>\n",
       "      <th>Supermarket</th>\n",
       "      <th>Type</th>\n",
       "      <th>Saturday</th>\n",
       "      <th>Weekdays</th>\n",
       "    </tr>\n",
       "  </thead>\n",
       "  <tbody>\n",
       "    <tr>\n",
       "      <th>0</th>\n",
       "      <td>Four Square Alberton</td>\n",
       "      <td>Four Square</td>\n",
       "      <td>1</td>\n",
       "      <td>3</td>\n",
       "    </tr>\n",
       "    <tr>\n",
       "      <th>1</th>\n",
       "      <td>Four Square Botany Junction</td>\n",
       "      <td>Four Square</td>\n",
       "      <td>0</td>\n",
       "      <td>2</td>\n",
       "    </tr>\n",
       "    <tr>\n",
       "      <th>2</th>\n",
       "      <td>Four Square Cockle Bay</td>\n",
       "      <td>Four Square</td>\n",
       "      <td>1</td>\n",
       "      <td>3</td>\n",
       "    </tr>\n",
       "    <tr>\n",
       "      <th>3</th>\n",
       "      <td>Four Square Ellerslie</td>\n",
       "      <td>Four Square</td>\n",
       "      <td>1</td>\n",
       "      <td>3</td>\n",
       "    </tr>\n",
       "    <tr>\n",
       "      <th>4</th>\n",
       "      <td>Four Square Everglade</td>\n",
       "      <td>Four Square</td>\n",
       "      <td>1</td>\n",
       "      <td>2</td>\n",
       "    </tr>\n",
       "  </tbody>\n",
       "</table>\n",
       "</div>"
      ],
      "text/plain": [
       "                   Supermarket         Type  Saturday  Weekdays\n",
       "0         Four Square Alberton  Four Square         1         3\n",
       "1  Four Square Botany Junction  Four Square         0         2\n",
       "2       Four Square Cockle Bay  Four Square         1         3\n",
       "3        Four Square Ellerslie  Four Square         1         3\n",
       "4        Four Square Everglade  Four Square         1         2"
      ]
     },
     "execution_count": 3,
     "metadata": {},
     "output_type": "execute_result"
    }
   ],
   "source": [
    "demands = pd.read_csv(\"../demand-estimation/output/DemandEstimates.csv\")\n",
    "demands.head()"
   ]
  },
  {
   "cell_type": "code",
   "execution_count": 4,
   "metadata": {
    "collapsed": false,
    "pycharm": {
     "name": "#%%\n"
    }
   },
   "outputs": [
    {
     "data": {
      "text/html": [
       "<div>\n",
       "<style scoped>\n",
       "    .dataframe tbody tr th:only-of-type {\n",
       "        vertical-align: middle;\n",
       "    }\n",
       "\n",
       "    .dataframe tbody tr th {\n",
       "        vertical-align: top;\n",
       "    }\n",
       "\n",
       "    .dataframe thead th {\n",
       "        text-align: right;\n",
       "    }\n",
       "</style>\n",
       "<table border=\"1\" class=\"dataframe\">\n",
       "  <thead>\n",
       "    <tr style=\"text-align: right;\">\n",
       "      <th></th>\n",
       "      <th>From</th>\n",
       "      <th>To</th>\n",
       "      <th>Distance</th>\n",
       "      <th>Duration</th>\n",
       "    </tr>\n",
       "  </thead>\n",
       "  <tbody>\n",
       "    <tr>\n",
       "      <th>0</th>\n",
       "      <td>New World Albany</td>\n",
       "      <td>New World Albany</td>\n",
       "      <td>0.00000</td>\n",
       "      <td>0.000000</td>\n",
       "    </tr>\n",
       "    <tr>\n",
       "      <th>1</th>\n",
       "      <td>New World Albany</td>\n",
       "      <td>New World Birkenhead</td>\n",
       "      <td>15.70707</td>\n",
       "      <td>23.833833</td>\n",
       "    </tr>\n",
       "    <tr>\n",
       "      <th>2</th>\n",
       "      <td>New World Albany</td>\n",
       "      <td>New World Botany</td>\n",
       "      <td>35.83163</td>\n",
       "      <td>49.946667</td>\n",
       "    </tr>\n",
       "    <tr>\n",
       "      <th>3</th>\n",
       "      <td>New World Albany</td>\n",
       "      <td>New World Browns Bay</td>\n",
       "      <td>5.00226</td>\n",
       "      <td>10.337833</td>\n",
       "    </tr>\n",
       "    <tr>\n",
       "      <th>4</th>\n",
       "      <td>New World Albany</td>\n",
       "      <td>New World Devonport</td>\n",
       "      <td>17.81659</td>\n",
       "      <td>29.654833</td>\n",
       "    </tr>\n",
       "  </tbody>\n",
       "</table>\n",
       "</div>"
      ],
      "text/plain": [
       "               From                    To  Distance   Duration\n",
       "0  New World Albany      New World Albany   0.00000   0.000000\n",
       "1  New World Albany  New World Birkenhead  15.70707  23.833833\n",
       "2  New World Albany      New World Botany  35.83163  49.946667\n",
       "3  New World Albany  New World Browns Bay   5.00226  10.337833\n",
       "4  New World Albany   New World Devonport  17.81659  29.654833"
      ]
     },
     "execution_count": 4,
     "metadata": {},
     "output_type": "execute_result"
    }
   ],
   "source": [
    "durations = pd.read_csv(\"output/TravelCosts.csv\")\n",
    "durations.head()"
   ]
  },
  {
   "cell_type": "code",
   "execution_count": 7,
   "metadata": {},
   "outputs": [],
   "source": [
    "dropouts=[0,0.25,0.5,0.75]\n",
    "localisations=[0,0.2,0.4,0.6]"
   ]
  },
  {
   "cell_type": "code",
   "execution_count": 8,
   "metadata": {},
   "outputs": [
    {
     "name": "stdout",
     "output_type": "stream",
     "text": [
      "1255\n"
     ]
    }
   ],
   "source": [
    "saturday_routes = aggregate_routes(regions, demands, durations, weekday=False, dropouts=dropouts, localisations=localisations)\n",
    "print(len(saturday_routes))\n"
   ]
  },
  {
   "cell_type": "code",
   "execution_count": 10,
   "metadata": {},
   "outputs": [
    {
     "name": "stdout",
     "output_type": "stream",
     "text": [
      "440\n"
     ]
    }
   ],
   "source": [
    "weekday_routes = aggregate_routes(regions, demands, durations, dropouts=dropouts, localisations=localisations)\n",
    "print(len(weekday_routes))"
   ]
  },
  {
   "cell_type": "code",
   "execution_count": 11,
   "metadata": {},
   "outputs": [
    {
     "name": "stdout",
     "output_type": "stream",
     "text": [
      "Sample of Saturday Routes\n",
      "-------------------------\n",
      "Route: Warehouse > Pak 'n Save Sylvia Park > New World Stonefields > Warehouse\n",
      "Cost: 174.39500000000015\n",
      "\n",
      "Route: Warehouse > New World Devonport > New World Metro Shore City > New World Milford > Pak 'n Save Wairau Road > New World Metro Queen St > Warehouse\n",
      "Cost: 311.60791666666665\n",
      "\n",
      "Route: Warehouse > New World Green Bay > Four Square Glen Eden > New World New Lynn > Pak 'n Save Mt Albert > New World Metro Queen St > Four Square Alberton > New World Mt Roskill > Warehouse\n",
      "Cost: 272.8370833333335\n",
      "\n",
      "Route: Warehouse > Four Square Botany Junction > Pak 'n Save Glen Innes > Four Square St Heliers > New World Stonefields > Four Square Ellerslie > Pak 'n Save Royal Oak > New World Mt Roskill > Warehouse\n",
      "Cost: 348.6037500000002\n",
      "\n",
      "Sample of Weekday Routes\n",
      "------------------------\n",
      "Route: Warehouse > Four Square St Heliers > Pak 'n Save Glen Innes > New World Metro Queen St > Warehouse\n",
      "Cost: 235.95583333333315\n",
      "\n",
      "Route: Warehouse > New World Remuera > Pak 'n Save Royal Oak > Warehouse\n",
      "Cost: 122.11124999999998\n",
      "\n",
      "Route: Warehouse > New World Browns Bay > Pak 'n Save Wairau Road > Four Square Lancaster > Warehouse\n",
      "Cost: 302.44874999999996\n",
      "\n",
      "Route: Warehouse > New World Ormiston > Four Square Ellerslie > New World Howick > Warehouse\n",
      "Cost: 332.9441666666665\n",
      "\n"
     ]
    }
   ],
   "source": [
    "def route_printing(routes):\n",
    "    for route in routes:\n",
    "        print(f\"Route: {' > '.join(route[0])}\\nCost: {route[1]}\\n\")\n",
    "\n",
    "print(\"Sample of Saturday Routes\")\n",
    "print(\"-------------------------\")\n",
    "route_printing(random.sample(saturday_routes, 4))\n",
    "\n",
    "print(\"Sample of Weekday Routes\")\n",
    "print(\"------------------------\")\n",
    "route_printing(random.sample(weekday_routes, 4))"
   ]
  },
  {
   "cell_type": "code",
   "execution_count": 12,
   "metadata": {},
   "outputs": [],
   "source": [
    "saturday_routes_df = convert_routes_to_dataframe(saturday_routes)\n",
    "weekday_routes_df = convert_routes_to_dataframe(weekday_routes)"
   ]
  },
  {
   "cell_type": "code",
   "execution_count": 13,
   "metadata": {},
   "outputs": [],
   "source": [
    "saturday_routes_df.to_csv(\"output/SaturdayRoutes.csv\", index=False)\n",
    "weekday_routes_df.to_csv(\"output/WeekdayRoutes.csv\", index=False)"
   ]
  }
 ],
 "metadata": {
  "kernelspec": {
   "display_name": "Python 3.10.5 ('env': venv)",
   "language": "python",
   "name": "python3"
  },
  "language_info": {
   "codemirror_mode": {
    "name": "ipython",
    "version": 3
   },
   "file_extension": ".py",
   "mimetype": "text/x-python",
   "name": "python",
   "nbconvert_exporter": "python",
   "pygments_lexer": "ipython3",
   "version": "3.10.5"
  },
  "vscode": {
   "interpreter": {
    "hash": "b9802198530425692927ed4d19a712402a29f50beecaed8989c38bdb6d569a2f"
   }
  }
 },
 "nbformat": 4,
 "nbformat_minor": 0
}
