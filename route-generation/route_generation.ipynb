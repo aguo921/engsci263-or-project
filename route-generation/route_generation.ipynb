{
 "cells": [
  {
   "cell_type": "code",
   "execution_count": 1,
   "metadata": {},
   "outputs": [],
   "source": [
    "import pandas as pd\n",
    "import random\n",
    "\n",
    "from route_generation import *"
   ]
  },
  {
   "cell_type": "code",
   "execution_count": 3,
   "metadata": {},
   "outputs": [],
   "source": [
    "regions = read_regions(\"Regions.csv\")"
   ]
  },
  {
   "cell_type": "code",
   "execution_count": 12,
   "metadata": {},
   "outputs": [
    {
     "data": {
      "text/html": [
       "<div>\n",
       "<style scoped>\n",
       "    .dataframe tbody tr th:only-of-type {\n",
       "        vertical-align: middle;\n",
       "    }\n",
       "\n",
       "    .dataframe tbody tr th {\n",
       "        vertical-align: top;\n",
       "    }\n",
       "\n",
       "    .dataframe thead th {\n",
       "        text-align: right;\n",
       "    }\n",
       "</style>\n",
       "<table border=\"1\" class=\"dataframe\">\n",
       "  <thead>\n",
       "    <tr style=\"text-align: right;\">\n",
       "      <th></th>\n",
       "      <th>Supermarket</th>\n",
       "      <th>Type</th>\n",
       "      <th>Saturday</th>\n",
       "      <th>Weekdays</th>\n",
       "    </tr>\n",
       "  </thead>\n",
       "  <tbody>\n",
       "    <tr>\n",
       "      <th>0</th>\n",
       "      <td>Four Square Alberton</td>\n",
       "      <td>Four Square</td>\n",
       "      <td>1.0</td>\n",
       "      <td>3.00</td>\n",
       "    </tr>\n",
       "    <tr>\n",
       "      <th>1</th>\n",
       "      <td>Four Square Botany Junction</td>\n",
       "      <td>Four Square</td>\n",
       "      <td>0.0</td>\n",
       "      <td>2.25</td>\n",
       "    </tr>\n",
       "    <tr>\n",
       "      <th>2</th>\n",
       "      <td>Four Square Cockle Bay</td>\n",
       "      <td>Four Square</td>\n",
       "      <td>1.0</td>\n",
       "      <td>3.00</td>\n",
       "    </tr>\n",
       "    <tr>\n",
       "      <th>3</th>\n",
       "      <td>Four Square Ellerslie</td>\n",
       "      <td>Four Square</td>\n",
       "      <td>1.0</td>\n",
       "      <td>3.00</td>\n",
       "    </tr>\n",
       "    <tr>\n",
       "      <th>4</th>\n",
       "      <td>Four Square Everglade</td>\n",
       "      <td>Four Square</td>\n",
       "      <td>1.0</td>\n",
       "      <td>2.00</td>\n",
       "    </tr>\n",
       "  </tbody>\n",
       "</table>\n",
       "</div>"
      ],
      "text/plain": [
       "                   Supermarket         Type  Saturday  Weekdays\n",
       "0         Four Square Alberton  Four Square       1.0      3.00\n",
       "1  Four Square Botany Junction  Four Square       0.0      2.25\n",
       "2       Four Square Cockle Bay  Four Square       1.0      3.00\n",
       "3        Four Square Ellerslie  Four Square       1.0      3.00\n",
       "4        Four Square Everglade  Four Square       1.0      2.00"
      ]
     },
     "execution_count": 12,
     "metadata": {},
     "output_type": "execute_result"
    }
   ],
   "source": [
    "demands = pd.read_csv(\"../demand-estimation/output/DemandEstimates.csv\")\n",
    "demands.head()"
   ]
  },
  {
   "cell_type": "code",
   "execution_count": 6,
   "metadata": {
    "collapsed": false,
    "pycharm": {
     "name": "#%%\n"
    }
   },
   "outputs": [
    {
     "data": {
      "text/html": [
       "<div>\n",
       "<style scoped>\n",
       "    .dataframe tbody tr th:only-of-type {\n",
       "        vertical-align: middle;\n",
       "    }\n",
       "\n",
       "    .dataframe tbody tr th {\n",
       "        vertical-align: top;\n",
       "    }\n",
       "\n",
       "    .dataframe thead th {\n",
       "        text-align: right;\n",
       "    }\n",
       "</style>\n",
       "<table border=\"1\" class=\"dataframe\">\n",
       "  <thead>\n",
       "    <tr style=\"text-align: right;\">\n",
       "      <th></th>\n",
       "      <th>From</th>\n",
       "      <th>To</th>\n",
       "      <th>Distance</th>\n",
       "      <th>Duration</th>\n",
       "    </tr>\n",
       "  </thead>\n",
       "  <tbody>\n",
       "    <tr>\n",
       "      <th>0</th>\n",
       "      <td>New World Albany</td>\n",
       "      <td>New World Albany</td>\n",
       "      <td>0.00000</td>\n",
       "      <td>0.000000</td>\n",
       "    </tr>\n",
       "    <tr>\n",
       "      <th>1</th>\n",
       "      <td>New World Albany</td>\n",
       "      <td>New World Birkenhead</td>\n",
       "      <td>15.70707</td>\n",
       "      <td>23.833833</td>\n",
       "    </tr>\n",
       "    <tr>\n",
       "      <th>2</th>\n",
       "      <td>New World Albany</td>\n",
       "      <td>New World Botany</td>\n",
       "      <td>35.83163</td>\n",
       "      <td>49.946667</td>\n",
       "    </tr>\n",
       "    <tr>\n",
       "      <th>3</th>\n",
       "      <td>New World Albany</td>\n",
       "      <td>New World Browns Bay</td>\n",
       "      <td>5.00226</td>\n",
       "      <td>10.337833</td>\n",
       "    </tr>\n",
       "    <tr>\n",
       "      <th>4</th>\n",
       "      <td>New World Albany</td>\n",
       "      <td>New World Devonport</td>\n",
       "      <td>17.81659</td>\n",
       "      <td>29.654833</td>\n",
       "    </tr>\n",
       "  </tbody>\n",
       "</table>\n",
       "</div>"
      ],
      "text/plain": [
       "               From                    To  Distance   Duration\n",
       "0  New World Albany      New World Albany   0.00000   0.000000\n",
       "1  New World Albany  New World Birkenhead  15.70707  23.833833\n",
       "2  New World Albany      New World Botany  35.83163  49.946667\n",
       "3  New World Albany  New World Browns Bay   5.00226  10.337833\n",
       "4  New World Albany   New World Devonport  17.81659  29.654833"
      ]
     },
     "execution_count": 6,
     "metadata": {},
     "output_type": "execute_result"
    }
   ],
   "source": [
    "durations = pd.read_csv(\"output/TravelCosts.csv\")\n",
    "durations.head()"
   ]
  },
  {
   "cell_type": "code",
   "execution_count": 7,
   "metadata": {},
   "outputs": [],
   "source": [
    "dropouts=[0,0.3,0.6]"
   ]
  },
  {
   "cell_type": "code",
   "execution_count": 8,
   "metadata": {},
   "outputs": [
    {
     "name": "stdout",
     "output_type": "stream",
     "text": [
      "355\n"
     ]
    }
   ],
   "source": [
    "saturday_routes = aggregate_routes(regions, demands, durations, weekday=False, dropouts=dropouts)\n",
    "print(len(saturday_routes))\n"
   ]
  },
  {
   "cell_type": "code",
   "execution_count": 13,
   "metadata": {},
   "outputs": [
    {
     "name": "stdout",
     "output_type": "stream",
     "text": [
      "163\n"
     ]
    }
   ],
   "source": [
    "weekday_routes = aggregate_routes(regions, demands, durations, dropouts=dropouts)\n",
    "print(len(weekday_routes))"
   ]
  },
  {
   "cell_type": "code",
   "execution_count": 14,
   "metadata": {},
   "outputs": [
    {
     "name": "stdout",
     "output_type": "stream",
     "text": [
      "Sample of Saturday Routes\n",
      "-------------------------\n",
      "Route: Warehouse > New World Green Bay > Four Square Glen Eden > New World New Lynn > Pak 'n Save Mt Albert > Warehouse\n",
      "Cost: 160.02750000000015\n",
      "\n",
      "Route: Warehouse > New World Howick > Four Square Cockle Bay > Pak 'n Save Botany > Warehouse\n",
      "Cost: 254.17750000000012\n",
      "\n",
      "Route: Warehouse > Four Square Pakuranga Heights > New World Howick > Warehouse\n",
      "Cost: 216.92333333333323\n",
      "\n",
      "Route: Warehouse > Pak 'n Save Ormiston > Four Square Botany Junction > New World Ormiston > Pak 'n Save Botany > Warehouse\n",
      "Cost: 259.3333333333333\n",
      "\n",
      "Sample of Weekday Routes\n",
      "------------------------\n",
      "Route: Warehouse > Four Square Botany Junction > Four Square Everglade > Warehouse\n",
      "Cost: 175.31500000000017\n",
      "\n",
      "Route: Warehouse > Four Square St Heliers > New World Howick > Four Square Cockle Bay > Four Square Pakuranga Heights > Four Square Botany Junction > Warehouse\n",
      "Cost: 351.58500000000015\n",
      "\n",
      "Route: Warehouse > Pak 'n Save Lincoln Road > Four Square Fair Price Henderson > Four Square Glen Eden > Warehouse\n",
      "Cost: 175.40125\n",
      "\n",
      "Route: Warehouse > Pak 'n Save Sylvia Park > Four Square Ellerslie > Four Square Pakuranga Heights > Warehouse\n",
      "Cost: 213.63750000000007\n",
      "\n"
     ]
    }
   ],
   "source": [
    "def route_printing(routes):\n",
    "    for route in routes:\n",
    "        print(f\"Route: {' > '.join(route[0])}\\nCost: {route[1]}\\n\")\n",
    "\n",
    "print(\"Sample of Saturday Routes\")\n",
    "print(\"-------------------------\")\n",
    "route_printing(random.sample(saturday_routes, 4))\n",
    "\n",
    "print(\"Sample of Weekday Routes\")\n",
    "print(\"------------------------\")\n",
    "route_printing(random.sample(weekday_routes, 4))"
   ]
  },
  {
   "cell_type": "code",
   "execution_count": 15,
   "metadata": {},
   "outputs": [],
   "source": [
    "saturday_routes = convert_routes_to_dataframe(saturday_routes)\n",
    "weekday_routes = convert_routes_to_dataframe(weekday_routes)"
   ]
  },
  {
   "cell_type": "code",
   "execution_count": 16,
   "metadata": {},
   "outputs": [],
   "source": [
    "saturday_routes.to_csv(\"output/SaturdayRoutes.csv\", index=False)\n",
    "weekday_routes.to_csv(\"output/WeekdayRoutes.csv\", index=False)"
   ]
  }
 ],
 "metadata": {
  "kernelspec": {
   "display_name": "Python 3.10.5 64-bit",
   "language": "python",
   "name": "python3"
  },
  "language_info": {
   "codemirror_mode": {
    "name": "ipython",
    "version": 3
   },
   "file_extension": ".py",
   "mimetype": "text/x-python",
   "name": "python",
   "nbconvert_exporter": "python",
   "pygments_lexer": "ipython3",
   "version": "3.10.5"
  },
  "vscode": {
   "interpreter": {
    "hash": "369f2c481f4da34e4445cda3fffd2e751bd1c4d706f27375911949ba6bb62e1c"
   }
  }
 },
 "nbformat": 4,
 "nbformat_minor": 0
}
