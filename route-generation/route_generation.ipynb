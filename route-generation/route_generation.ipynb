{
 "cells": [
  {
   "cell_type": "code",
   "execution_count": 1,
   "metadata": {},
   "outputs": [],
   "source": [
    "import pandas as pd\n",
    "import random\n",
    "\n",
    "from route_generation import *"
   ]
  },
  {
   "cell_type": "code",
   "execution_count": 2,
   "metadata": {},
   "outputs": [],
   "source": [
    "regions = read_regions(\"Regions.csv\")"
   ]
  },
  {
   "cell_type": "code",
   "execution_count": 3,
   "metadata": {},
   "outputs": [
    {
     "data": {
      "text/html": [
       "<div>\n",
       "<style scoped>\n",
       "    .dataframe tbody tr th:only-of-type {\n",
       "        vertical-align: middle;\n",
       "    }\n",
       "\n",
       "    .dataframe tbody tr th {\n",
       "        vertical-align: top;\n",
       "    }\n",
       "\n",
       "    .dataframe thead th {\n",
       "        text-align: right;\n",
       "    }\n",
       "</style>\n",
       "<table border=\"1\" class=\"dataframe\">\n",
       "  <thead>\n",
       "    <tr style=\"text-align: right;\">\n",
       "      <th></th>\n",
       "      <th>Type</th>\n",
       "      <th>Saturday</th>\n",
       "      <th>Weekdays</th>\n",
       "    </tr>\n",
       "    <tr>\n",
       "      <th>Supermarket</th>\n",
       "      <th></th>\n",
       "      <th></th>\n",
       "      <th></th>\n",
       "    </tr>\n",
       "  </thead>\n",
       "  <tbody>\n",
       "    <tr>\n",
       "      <th>Four Square Alberton</th>\n",
       "      <td>Four Square</td>\n",
       "      <td>1</td>\n",
       "      <td>3</td>\n",
       "    </tr>\n",
       "    <tr>\n",
       "      <th>Four Square Botany Junction</th>\n",
       "      <td>Four Square</td>\n",
       "      <td>0</td>\n",
       "      <td>2</td>\n",
       "    </tr>\n",
       "    <tr>\n",
       "      <th>Four Square Cockle Bay</th>\n",
       "      <td>Four Square</td>\n",
       "      <td>1</td>\n",
       "      <td>3</td>\n",
       "    </tr>\n",
       "    <tr>\n",
       "      <th>Four Square Ellerslie</th>\n",
       "      <td>Four Square</td>\n",
       "      <td>1</td>\n",
       "      <td>3</td>\n",
       "    </tr>\n",
       "    <tr>\n",
       "      <th>Four Square Everglade</th>\n",
       "      <td>Four Square</td>\n",
       "      <td>1</td>\n",
       "      <td>2</td>\n",
       "    </tr>\n",
       "  </tbody>\n",
       "</table>\n",
       "</div>"
      ],
      "text/plain": [
       "                                    Type  Saturday  Weekdays\n",
       "Supermarket                                                 \n",
       "Four Square Alberton         Four Square         1         3\n",
       "Four Square Botany Junction  Four Square         0         2\n",
       "Four Square Cockle Bay       Four Square         1         3\n",
       "Four Square Ellerslie        Four Square         1         3\n",
       "Four Square Everglade        Four Square         1         2"
      ]
     },
     "execution_count": 3,
     "metadata": {},
     "output_type": "execute_result"
    }
   ],
   "source": [
    "demands = pd \\\n",
    "    .read_csv(\"../demand-estimation/output/DemandEstimates.csv\") \\\n",
    "    .set_index(\"Supermarket\")\n",
    "demands.head()"
   ]
  },
  {
   "cell_type": "code",
   "execution_count": 4,
   "metadata": {
    "collapsed": false,
    "pycharm": {
     "name": "#%%\n"
    }
   },
   "outputs": [
    {
     "data": {
      "text/html": [
       "<div>\n",
       "<style scoped>\n",
       "    .dataframe tbody tr th:only-of-type {\n",
       "        vertical-align: middle;\n",
       "    }\n",
       "\n",
       "    .dataframe tbody tr th {\n",
       "        vertical-align: top;\n",
       "    }\n",
       "\n",
       "    .dataframe thead th {\n",
       "        text-align: right;\n",
       "    }\n",
       "</style>\n",
       "<table border=\"1\" class=\"dataframe\">\n",
       "  <thead>\n",
       "    <tr style=\"text-align: right;\">\n",
       "      <th></th>\n",
       "      <th></th>\n",
       "      <th>Distance</th>\n",
       "      <th>Duration</th>\n",
       "    </tr>\n",
       "    <tr>\n",
       "      <th>From</th>\n",
       "      <th>To</th>\n",
       "      <th></th>\n",
       "      <th></th>\n",
       "    </tr>\n",
       "  </thead>\n",
       "  <tbody>\n",
       "    <tr>\n",
       "      <th rowspan=\"5\" valign=\"top\">New World Albany</th>\n",
       "      <th>New World Albany</th>\n",
       "      <td>0.00000</td>\n",
       "      <td>0.000000</td>\n",
       "    </tr>\n",
       "    <tr>\n",
       "      <th>New World Birkenhead</th>\n",
       "      <td>15.70707</td>\n",
       "      <td>23.833833</td>\n",
       "    </tr>\n",
       "    <tr>\n",
       "      <th>New World Botany</th>\n",
       "      <td>35.83163</td>\n",
       "      <td>49.946667</td>\n",
       "    </tr>\n",
       "    <tr>\n",
       "      <th>New World Browns Bay</th>\n",
       "      <td>5.00226</td>\n",
       "      <td>10.337833</td>\n",
       "    </tr>\n",
       "    <tr>\n",
       "      <th>New World Devonport</th>\n",
       "      <td>17.81659</td>\n",
       "      <td>29.654833</td>\n",
       "    </tr>\n",
       "  </tbody>\n",
       "</table>\n",
       "</div>"
      ],
      "text/plain": [
       "                                       Distance   Duration\n",
       "From             To                                       \n",
       "New World Albany New World Albany       0.00000   0.000000\n",
       "                 New World Birkenhead  15.70707  23.833833\n",
       "                 New World Botany      35.83163  49.946667\n",
       "                 New World Browns Bay   5.00226  10.337833\n",
       "                 New World Devonport   17.81659  29.654833"
      ]
     },
     "execution_count": 4,
     "metadata": {},
     "output_type": "execute_result"
    }
   ],
   "source": [
    "durations = pd \\\n",
    "    .read_csv(\"output/TravelCosts.csv\") \\\n",
    "    .set_index(['From', 'To'])\n",
    "durations.head()"
   ]
  },
  {
   "cell_type": "code",
   "execution_count": 5,
   "metadata": {},
   "outputs": [],
   "source": [
    "dropouts=[0,0.1,0.2,0.3,0.4,0.5]\n",
    "warehouse_weights=[0,0.1,0.2,0.3,0.4,0.5,0.6,0.7,0.8,0.9,1]\n"
   ]
  },
  {
   "cell_type": "code",
   "execution_count": 6,
   "metadata": {},
   "outputs": [
    {
     "name": "stdout",
     "output_type": "stream",
     "text": [
      "2457\n"
     ]
    }
   ],
   "source": [
    "saturday_routes = aggregate_routes(\n",
    "    regions, \n",
    "    demands, \n",
    "    durations, \n",
    "    weekday=False, \n",
    "    dropouts=dropouts, \n",
    "    warehouse_weights=warehouse_weights\n",
    ")\n",
    "print(len(saturday_routes))\n"
   ]
  },
  {
   "cell_type": "code",
   "execution_count": 7,
   "metadata": {},
   "outputs": [
    {
     "name": "stdout",
     "output_type": "stream",
     "text": [
      "618\n"
     ]
    }
   ],
   "source": [
    "weekday_routes = aggregate_routes(\n",
    "    regions, \n",
    "    demands, \n",
    "    durations, \n",
    "    dropouts=dropouts, \n",
    "    warehouse_weights=warehouse_weights\n",
    ")\n",
    "print(len(weekday_routes))"
   ]
  },
  {
   "cell_type": "code",
   "execution_count": 8,
   "metadata": {},
   "outputs": [
    {
     "name": "stdout",
     "output_type": "stream",
     "text": [
      "Sample of Saturday Routes\n",
      "-------------------------\n",
      "Route: Warehouse > New World Birkenhead > Four Square Lancaster > New World Victoria Park > New World Metro Queen St > Four Square Alberton > Pak 'n Save Mt Albert > Warehouse\n",
      "Cost: 321.6839999999999\n",
      "\n",
      "Route: Warehouse > Pak 'n Save Mt Albert > Four Square Alberton > Four Square Ellerslie > Pak 'n Save Royal Oak > New World Mt Roskill > Warehouse\n",
      "Cost: 213.61649999999997\n",
      "\n",
      "Route: Warehouse > New World Birkenhead > Four Square Lancaster > Pak 'n Save Wairau Road > New World Metro Shore City > Warehouse\n",
      "Cost: 293.13499999999965\n",
      "\n",
      "Route: Warehouse > Four Square Glen Eden > New World Green Bay > New World New Lynn > Four Square Alberton > New World Victoria Park > Warehouse\n",
      "Cost: 293.6705000000002\n",
      "\n",
      "Sample of Weekday Routes\n",
      "------------------------\n",
      "Route: Warehouse > Four Square Hobsonville > Four Square Fair Price Henderson > Warehouse\n",
      "Cost: 248.8486666666665\n",
      "\n",
      "Route: Warehouse > Four Square Glen Eden > Four Square St Heliers > Four Square Ellerslie > Pak 'n Save Royal Oak > Warehouse\n",
      "Cost: 388.0306666666664\n",
      "\n",
      "Route: Warehouse > New World Albany > New World Browns Bay > Warehouse\n",
      "Cost: 327.8710833333331\n",
      "\n",
      "Route: Warehouse > New World Mt Roskill > New World Papatoetoe > Four Square Everglade > Warehouse\n",
      "Cost: 243.70358333333354\n",
      "\n"
     ]
    }
   ],
   "source": [
    "def route_printing(routes, indices):\n",
    "    for i in indices:\n",
    "        print(f\"Route: {' > '.join(routes.Route[i])}\\nCost: {routes.Cost[i]}\\n\")\n",
    "\n",
    "print(\"Sample of Saturday Routes\")\n",
    "print(\"-------------------------\")\n",
    "route_printing(saturday_routes, random.sample(sorted(saturday_routes.index), 4))\n",
    "\n",
    "print(\"Sample of Weekday Routes\")\n",
    "print(\"------------------------\")\n",
    "route_printing(weekday_routes, random.sample(sorted(weekday_routes.index), 4))"
   ]
  },
  {
   "cell_type": "code",
   "execution_count": 9,
   "metadata": {},
   "outputs": [],
   "source": [
    "saturday_routes.to_csv(\"output/SaturdayRoutes.csv\", index=False)\n",
    "weekday_routes.to_csv(\"output/WeekdayRoutes.csv\", index=False)"
   ]
  }
 ],
 "metadata": {
  "kernelspec": {
   "display_name": "Python 3.10.5 ('env': venv)",
   "language": "python",
   "name": "python3"
  },
  "language_info": {
   "codemirror_mode": {
    "name": "ipython",
    "version": 3
   },
   "file_extension": ".py",
   "mimetype": "text/x-python",
   "name": "python",
   "nbconvert_exporter": "python",
   "pygments_lexer": "ipython3",
   "version": "3.10.5"
  },
  "vscode": {
   "interpreter": {
    "hash": "b9802198530425692927ed4d19a712402a29f50beecaed8989c38bdb6d569a2f"
   }
  }
 },
 "nbformat": 4,
 "nbformat_minor": 0
}
