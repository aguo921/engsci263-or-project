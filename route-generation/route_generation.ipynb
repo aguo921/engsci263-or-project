{
 "cells": [
  {
   "cell_type": "code",
   "execution_count": 1,
   "metadata": {},
   "outputs": [],
   "source": [
    "import pandas as pd\n",
    "import random\n",
    "\n",
    "from route_generation import *"
   ]
  },
  {
   "cell_type": "code",
   "execution_count": 2,
   "metadata": {},
   "outputs": [],
   "source": [
    "regions = read_regions(\"Regions.csv\")"
   ]
  },
  {
   "cell_type": "code",
   "execution_count": 3,
   "metadata": {},
   "outputs": [
    {
     "data": {
      "text/html": [
       "<div>\n",
       "<style scoped>\n",
       "    .dataframe tbody tr th:only-of-type {\n",
       "        vertical-align: middle;\n",
       "    }\n",
       "\n",
       "    .dataframe tbody tr th {\n",
       "        vertical-align: top;\n",
       "    }\n",
       "\n",
       "    .dataframe thead th {\n",
       "        text-align: right;\n",
       "    }\n",
       "</style>\n",
       "<table border=\"1\" class=\"dataframe\">\n",
       "  <thead>\n",
       "    <tr style=\"text-align: right;\">\n",
       "      <th></th>\n",
       "      <th>Type</th>\n",
       "      <th>Saturday</th>\n",
       "      <th>Weekdays</th>\n",
       "    </tr>\n",
       "    <tr>\n",
       "      <th>Supermarket</th>\n",
       "      <th></th>\n",
       "      <th></th>\n",
       "      <th></th>\n",
       "    </tr>\n",
       "  </thead>\n",
       "  <tbody>\n",
       "    <tr>\n",
       "      <th>Four Square Alberton</th>\n",
       "      <td>Four Square</td>\n",
       "      <td>1</td>\n",
       "      <td>3</td>\n",
       "    </tr>\n",
       "    <tr>\n",
       "      <th>Four Square Botany Junction</th>\n",
       "      <td>Four Square</td>\n",
       "      <td>0</td>\n",
       "      <td>2</td>\n",
       "    </tr>\n",
       "    <tr>\n",
       "      <th>Four Square Cockle Bay</th>\n",
       "      <td>Four Square</td>\n",
       "      <td>1</td>\n",
       "      <td>3</td>\n",
       "    </tr>\n",
       "    <tr>\n",
       "      <th>Four Square Ellerslie</th>\n",
       "      <td>Four Square</td>\n",
       "      <td>1</td>\n",
       "      <td>3</td>\n",
       "    </tr>\n",
       "    <tr>\n",
       "      <th>Four Square Everglade</th>\n",
       "      <td>Four Square</td>\n",
       "      <td>1</td>\n",
       "      <td>2</td>\n",
       "    </tr>\n",
       "  </tbody>\n",
       "</table>\n",
       "</div>"
      ],
      "text/plain": [
       "                                    Type  Saturday  Weekdays\n",
       "Supermarket                                                 \n",
       "Four Square Alberton         Four Square         1         3\n",
       "Four Square Botany Junction  Four Square         0         2\n",
       "Four Square Cockle Bay       Four Square         1         3\n",
       "Four Square Ellerslie        Four Square         1         3\n",
       "Four Square Everglade        Four Square         1         2"
      ]
     },
     "execution_count": 3,
     "metadata": {},
     "output_type": "execute_result"
    }
   ],
   "source": [
    "demands = pd.read_csv(\"../demand-estimation/output/DemandEstimates.csv\").set_index(\"Supermarket\")\n",
    "demands.head()"
   ]
  },
  {
   "cell_type": "code",
   "execution_count": 4,
   "metadata": {
    "collapsed": false,
    "pycharm": {
     "name": "#%%\n"
    }
   },
   "outputs": [
    {
     "data": {
      "text/html": [
       "<div>\n",
       "<style scoped>\n",
       "    .dataframe tbody tr th:only-of-type {\n",
       "        vertical-align: middle;\n",
       "    }\n",
       "\n",
       "    .dataframe tbody tr th {\n",
       "        vertical-align: top;\n",
       "    }\n",
       "\n",
       "    .dataframe thead th {\n",
       "        text-align: right;\n",
       "    }\n",
       "</style>\n",
       "<table border=\"1\" class=\"dataframe\">\n",
       "  <thead>\n",
       "    <tr style=\"text-align: right;\">\n",
       "      <th></th>\n",
       "      <th></th>\n",
       "      <th>Distance</th>\n",
       "      <th>Duration</th>\n",
       "    </tr>\n",
       "    <tr>\n",
       "      <th>From</th>\n",
       "      <th>To</th>\n",
       "      <th></th>\n",
       "      <th></th>\n",
       "    </tr>\n",
       "  </thead>\n",
       "  <tbody>\n",
       "    <tr>\n",
       "      <th rowspan=\"5\" valign=\"top\">New World Albany</th>\n",
       "      <th>New World Albany</th>\n",
       "      <td>0.00000</td>\n",
       "      <td>0.000000</td>\n",
       "    </tr>\n",
       "    <tr>\n",
       "      <th>New World Birkenhead</th>\n",
       "      <td>15.70707</td>\n",
       "      <td>23.833833</td>\n",
       "    </tr>\n",
       "    <tr>\n",
       "      <th>New World Botany</th>\n",
       "      <td>35.83163</td>\n",
       "      <td>49.946667</td>\n",
       "    </tr>\n",
       "    <tr>\n",
       "      <th>New World Browns Bay</th>\n",
       "      <td>5.00226</td>\n",
       "      <td>10.337833</td>\n",
       "    </tr>\n",
       "    <tr>\n",
       "      <th>New World Devonport</th>\n",
       "      <td>17.81659</td>\n",
       "      <td>29.654833</td>\n",
       "    </tr>\n",
       "  </tbody>\n",
       "</table>\n",
       "</div>"
      ],
      "text/plain": [
       "                                       Distance   Duration\n",
       "From             To                                       \n",
       "New World Albany New World Albany       0.00000   0.000000\n",
       "                 New World Birkenhead  15.70707  23.833833\n",
       "                 New World Botany      35.83163  49.946667\n",
       "                 New World Browns Bay   5.00226  10.337833\n",
       "                 New World Devonport   17.81659  29.654833"
      ]
     },
     "execution_count": 4,
     "metadata": {},
     "output_type": "execute_result"
    }
   ],
   "source": [
    "durations = pd.read_csv(\"output/TravelCosts.csv\").set_index(['From', 'To'])\n",
    "durations.head()"
   ]
  },
  {
   "cell_type": "code",
   "execution_count": 5,
   "metadata": {},
   "outputs": [],
   "source": [
    "dropouts=[0,0.25,0.5,0.75]\n",
    "warehouse_weights=[0,0.2,0.4,0.6,0.8,1]"
   ]
  },
  {
   "cell_type": "code",
   "execution_count": 6,
   "metadata": {},
   "outputs": [
    {
     "name": "stdout",
     "output_type": "stream",
     "text": [
      "2406\n",
      "                                               Route      Time  Demand  \\\n",
      "0  [Warehouse, Pak 'n Save Manukau, New World Pap...   83.0718      13   \n",
      "1  [Warehouse, New World Papatoetoe, Pak 'n Save ...  116.9478      14   \n",
      "2  [Warehouse, New World Papatoetoe, Pak 'n Save ...  150.2548      16   \n",
      "3  [Warehouse, Pak 'n Save Mangere, New World Pap...  119.1122      16   \n",
      "4  [Warehouse, Four Square Botany Junction, Four ...  127.9674       8   \n",
      "\n",
      "       Cost  MainfreightCost  \n",
      "0  207.6795             3000  \n",
      "1  292.3695             3000  \n",
      "2  375.6370             3000  \n",
      "3  297.7805             3000  \n",
      "4  319.9185             3000  \n"
     ]
    }
   ],
   "source": [
    "saturday_routes = aggregate_routes(\n",
    "    regions, \n",
    "    demands, \n",
    "    durations, \n",
    "    weekday=False, \n",
    "    dropouts=dropouts, \n",
    "    warehouse_weights=warehouse_weights\n",
    ")\n",
    "print(len(saturday_routes))\n",
    "print(saturday_routes.head())\n"
   ]
  },
  {
   "cell_type": "code",
   "execution_count": 7,
   "metadata": {},
   "outputs": [
    {
     "name": "stdout",
     "output_type": "stream",
     "text": [
      "651\n",
      "                                               Route        Time  Demand  \\\n",
      "0  [Warehouse, Pak 'n Save Ormiston, Four Square ...  109.014867      11   \n",
      "1  [Warehouse, New World Mt Roskill, Pak 'n Save ...   93.744833      16   \n",
      "2  [Warehouse, New World Papakura, New World Sout...  141.878000      15   \n",
      "3  [Warehouse, New World Mt Roskill, New World Pa...   97.481433      15   \n",
      "4  [Warehouse, New World Southmall, Four Square E...  101.294800      16   \n",
      "\n",
      "         Cost  MainfreightCost  \n",
      "0  272.537167             3000  \n",
      "1  234.362083             3000  \n",
      "2  354.695000             3000  \n",
      "3  243.703583             3000  \n",
      "4  253.237000             3000  \n"
     ]
    }
   ],
   "source": [
    "weekday_routes = aggregate_routes(\n",
    "    regions, \n",
    "    demands, \n",
    "    durations, \n",
    "    dropouts=dropouts, \n",
    "    warehouse_weights=warehouse_weights\n",
    ")\n",
    "print(len(weekday_routes))\n",
    "print(weekday_routes.head())"
   ]
  },
  {
   "cell_type": "code",
   "execution_count": 8,
   "metadata": {},
   "outputs": [],
   "source": [
    "# saturday_routes.to_csv(\"output/SaturdayRoutes.csv\", index=False)\n",
    "# weekday_routes.to_csv(\"output/WeekdayRoutes.csv\", index=False)"
   ]
  }
 ],
 "metadata": {
  "kernelspec": {
   "display_name": "Python 3.10.5 ('env': venv)",
   "language": "python",
   "name": "python3"
  },
  "language_info": {
   "codemirror_mode": {
    "name": "ipython",
    "version": 3
   },
   "file_extension": ".py",
   "mimetype": "text/x-python",
   "name": "python",
   "nbconvert_exporter": "python",
   "pygments_lexer": "ipython3",
   "version": "3.10.5"
  },
  "vscode": {
   "interpreter": {
    "hash": "c29b7d6258bc8b6b7b0d7386d735944100ab3b3aeb58e7f87ea8e7544ed835a8"
   }
  }
 },
 "nbformat": 4,
 "nbformat_minor": 0
}
