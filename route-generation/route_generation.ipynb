{
 "cells": [
  {
   "cell_type": "code",
   "execution_count": 1,
   "metadata": {},
   "outputs": [],
   "source": [
    "import pandas as pd\n",
    "import random\n",
    "\n",
    "from route_generation import *"
   ]
  },
  {
   "cell_type": "code",
   "execution_count": 2,
   "metadata": {},
   "outputs": [
    {
     "name": "stdout",
     "output_type": "stream",
     "text": [
      "[['Four Square Botany Junction', 'Four Square Everglade', 'New World Mt Roskill', 'New World Papatoetoe', 'New World Southmall', 'New World Papakura', 'New World Ormiston', \"Pak 'n Save Mangere\", \"Pak 'n Save Manukau\", \"Pak 'n Save Clendon\", \"Pak 'n Save Papakura\", \"Pak 'n Save Ormiston\"], ['New World New Lynn', 'New World Green Bay', 'Four Square Glen Eden', \"Pak 'n Save Henderson\", \"Pak 'n Save Mt Albert\", 'Four Square Fair Price Henderson', \"Pak 'n Save Lincoln Road\", \"Pak 'n Save Westgate\", 'Four Square Hobsonville'], ['Four Square Alberton', 'Four Square Ellerslie', 'Four Square St Heliers', 'Four Square Pakuranga Heights', 'Four Square Cockle Bay', 'Four Square Botany Junction', 'New World Mt Roskill', 'New World Remuera', 'New World Eastridge', 'New World Stonefields', 'New World Howick', 'New World Botany', 'New World Ormiston', \"Pak 'n Save Royal Oak\", \"Pak 'n Save Sylvia Park\", \"Pak 'n Save Botany\", \"Pak 'n Save Ormiston\", \"Pak 'n Save Glen Innes\"], [\"Pak 'n Save Mt Albert\", 'Four Square Alberton', 'New World Victoria Park', 'New World Metro Queen St', 'New World Devonport', 'New World Birkenhead', 'New World Metro Shore City', 'Four Square Lancaster', \"Pak 'n Save Wairau Road\", 'New World Milford', 'New World Albany', \"Pak 'n Save Albany\", 'New World Browns Bay', 'Four Square Torbay', 'New World Long Bay'], ['Four Square Glen Eden', 'Four Square Alberton', 'Four Square Ellerslie', 'Four Square St Heliers', 'New World Green Bay', 'New World New Lynn', 'New World Mt Roskill', 'New World Victoria Park', 'New World Metro Queen St', 'New World Remuera', 'New World Stonefields', 'New World Eastridge', \"Pak 'n Save Mt Albert\", \"Pak 'n Save Royal Oak\", \"Pak 'n Save Sylvia Park\", \"Pak 'n Save Glen Innes\"]]\n"
     ]
    }
   ],
   "source": [
    "regions = read_regions(\"Regions.csv\")"
   ]
  },
  {
   "cell_type": "code",
   "execution_count": 14,
   "metadata": {},
   "outputs": [
    {
     "data": {
      "text/html": [
       "<div>\n",
       "<style scoped>\n",
       "    .dataframe tbody tr th:only-of-type {\n",
       "        vertical-align: middle;\n",
       "    }\n",
       "\n",
       "    .dataframe tbody tr th {\n",
       "        vertical-align: top;\n",
       "    }\n",
       "\n",
       "    .dataframe thead th {\n",
       "        text-align: right;\n",
       "    }\n",
       "</style>\n",
       "<table border=\"1\" class=\"dataframe\">\n",
       "  <thead>\n",
       "    <tr style=\"text-align: right;\">\n",
       "      <th></th>\n",
       "      <th>Type</th>\n",
       "      <th>Saturday</th>\n",
       "      <th>Weekdays</th>\n",
       "    </tr>\n",
       "    <tr>\n",
       "      <th>Supermarket</th>\n",
       "      <th></th>\n",
       "      <th></th>\n",
       "      <th></th>\n",
       "    </tr>\n",
       "  </thead>\n",
       "  <tbody>\n",
       "    <tr>\n",
       "      <th>Four Square Alberton</th>\n",
       "      <td>Four Square</td>\n",
       "      <td>1</td>\n",
       "      <td>3</td>\n",
       "    </tr>\n",
       "    <tr>\n",
       "      <th>Four Square Botany Junction</th>\n",
       "      <td>Four Square</td>\n",
       "      <td>0</td>\n",
       "      <td>2</td>\n",
       "    </tr>\n",
       "    <tr>\n",
       "      <th>Four Square Cockle Bay</th>\n",
       "      <td>Four Square</td>\n",
       "      <td>1</td>\n",
       "      <td>3</td>\n",
       "    </tr>\n",
       "    <tr>\n",
       "      <th>Four Square Ellerslie</th>\n",
       "      <td>Four Square</td>\n",
       "      <td>1</td>\n",
       "      <td>3</td>\n",
       "    </tr>\n",
       "    <tr>\n",
       "      <th>Four Square Everglade</th>\n",
       "      <td>Four Square</td>\n",
       "      <td>1</td>\n",
       "      <td>2</td>\n",
       "    </tr>\n",
       "  </tbody>\n",
       "</table>\n",
       "</div>"
      ],
      "text/plain": [
       "                                    Type  Saturday  Weekdays\n",
       "Supermarket                                                 \n",
       "Four Square Alberton         Four Square         1         3\n",
       "Four Square Botany Junction  Four Square         0         2\n",
       "Four Square Cockle Bay       Four Square         1         3\n",
       "Four Square Ellerslie        Four Square         1         3\n",
       "Four Square Everglade        Four Square         1         2"
      ]
     },
     "execution_count": 14,
     "metadata": {},
     "output_type": "execute_result"
    }
   ],
   "source": [
    "demands = pd.read_csv(\"../demand-estimation/output/DemandEstimates.csv\")\n",
    "demands = demands.set_index('Supermarket')\n",
    "demands.head()"
   ]
  },
  {
   "cell_type": "code",
   "execution_count": 15,
   "metadata": {
    "collapsed": false,
    "pycharm": {
     "name": "#%%\n"
    }
   },
   "outputs": [
    {
     "data": {
      "text/html": [
       "<div>\n",
       "<style scoped>\n",
       "    .dataframe tbody tr th:only-of-type {\n",
       "        vertical-align: middle;\n",
       "    }\n",
       "\n",
       "    .dataframe tbody tr th {\n",
       "        vertical-align: top;\n",
       "    }\n",
       "\n",
       "    .dataframe thead th {\n",
       "        text-align: right;\n",
       "    }\n",
       "</style>\n",
       "<table border=\"1\" class=\"dataframe\">\n",
       "  <thead>\n",
       "    <tr style=\"text-align: right;\">\n",
       "      <th></th>\n",
       "      <th></th>\n",
       "      <th>Distance</th>\n",
       "      <th>Duration</th>\n",
       "    </tr>\n",
       "    <tr>\n",
       "      <th>From</th>\n",
       "      <th>To</th>\n",
       "      <th></th>\n",
       "      <th></th>\n",
       "    </tr>\n",
       "  </thead>\n",
       "  <tbody>\n",
       "    <tr>\n",
       "      <th rowspan=\"5\" valign=\"top\">New World Albany</th>\n",
       "      <th>New World Albany</th>\n",
       "      <td>0.00000</td>\n",
       "      <td>0.000000</td>\n",
       "    </tr>\n",
       "    <tr>\n",
       "      <th>New World Birkenhead</th>\n",
       "      <td>15.70707</td>\n",
       "      <td>23.833833</td>\n",
       "    </tr>\n",
       "    <tr>\n",
       "      <th>New World Botany</th>\n",
       "      <td>35.83163</td>\n",
       "      <td>49.946667</td>\n",
       "    </tr>\n",
       "    <tr>\n",
       "      <th>New World Browns Bay</th>\n",
       "      <td>5.00226</td>\n",
       "      <td>10.337833</td>\n",
       "    </tr>\n",
       "    <tr>\n",
       "      <th>New World Devonport</th>\n",
       "      <td>17.81659</td>\n",
       "      <td>29.654833</td>\n",
       "    </tr>\n",
       "  </tbody>\n",
       "</table>\n",
       "</div>"
      ],
      "text/plain": [
       "                                       Distance   Duration\n",
       "From             To                                       \n",
       "New World Albany New World Albany       0.00000   0.000000\n",
       "                 New World Birkenhead  15.70707  23.833833\n",
       "                 New World Botany      35.83163  49.946667\n",
       "                 New World Browns Bay   5.00226  10.337833\n",
       "                 New World Devonport   17.81659  29.654833"
      ]
     },
     "execution_count": 15,
     "metadata": {},
     "output_type": "execute_result"
    }
   ],
   "source": [
    "durations = pd.read_csv(\"output/TravelCosts.csv\")\n",
    "durations = durations.set_index(['From', 'To'])\n",
    "durations.head()"
   ]
  },
  {
   "cell_type": "code",
   "execution_count": 18,
   "metadata": {},
   "outputs": [],
   "source": [
    "dropouts=[0,0.1,0.2,0.3,0.4,0.5]\n",
    "warehouse_weights=[0,0.1,0.2,0.3,0.4,0.5,0.6,0.7,0.8,0.9,1]"
   ]
  },
  {
   "cell_type": "code",
   "execution_count": 19,
   "metadata": {},
   "outputs": [
    {
     "name": "stdout",
     "output_type": "stream",
     "text": [
      "2472\n"
     ]
    }
   ],
   "source": [
    "saturday_routes = aggregate_routes(\n",
    "    regions, \n",
    "    demands, \n",
    "    durations, \n",
    "    weekday=False, \n",
    "    dropouts=dropouts, \n",
    "    warehouse_weights=warehouse_weights\n",
    ")\n",
    "print(len(saturday_routes))\n"
   ]
  },
  {
   "cell_type": "code",
   "execution_count": 20,
   "metadata": {},
   "outputs": [
    {
     "name": "stdout",
     "output_type": "stream",
     "text": [
      "636\n"
     ]
    }
   ],
   "source": [
    "weekday_routes = aggregate_routes(\n",
    "    regions, \n",
    "    demands, \n",
    "    durations, \n",
    "    dropouts=dropouts, \n",
    "    warehouse_weights=warehouse_weights\n",
    ")\n",
    "print(len(weekday_routes))"
   ]
  },
  {
   "cell_type": "code",
   "execution_count": 21,
   "metadata": {},
   "outputs": [
    {
     "name": "stdout",
     "output_type": "stream",
     "text": [
      "Sample of Saturday Routes\n",
      "-------------------------\n",
      "Route: Warehouse > Pak 'n Save Botany > Pak 'n Save Ormiston > Warehouse\n",
      "Cost: 220.89166666666677\n",
      "\n",
      "Route: Warehouse > New World Eastridge > Four Square St Heliers > New World Stonefields > Four Square Ellerslie > Pak 'n Save Royal Oak > Four Square Alberton > Warehouse\n",
      "Cost: 289.16124999999994\n",
      "\n",
      "Route: Warehouse > Four Square Everglade > Four Square Botany Junction > Pak 'n Save Manukau > Pak 'n Save Mangere > Warehouse\n",
      "Cost: 223.1349999999999\n",
      "\n",
      "Route: Warehouse > Four Square Fair Price Henderson > Four Square Glen Eden > New World Green Bay > New World New Lynn > Pak 'n Save Mt Albert > Warehouse\n",
      "Cost: 226.48083333333338\n",
      "\n",
      "Sample of Weekday Routes\n",
      "------------------------\n",
      "Route: Warehouse > New World Green Bay > Four Square Glen Eden > New World Victoria Park > Warehouse\n",
      "Cost: 201.44000000000025\n",
      "\n",
      "Route: Warehouse > Four Square Alberton > New World Green Bay > Warehouse\n",
      "Cost: 120.96458333333317\n",
      "\n",
      "Route: Warehouse > Pak 'n Save Henderson > Four Square Fair Price Henderson > Four Square Hobsonville > Warehouse\n",
      "Cost: 205.89416666666676\n",
      "\n",
      "Route: Warehouse > New World Mt Roskill > New World Ormiston > Four Square Botany Junction > Warehouse\n",
      "Cost: 201.41625000000002\n",
      "\n"
     ]
    }
   ],
   "source": [
    "def route_printing(routes):\n",
    "    for route in routes:\n",
    "        print(f\"Route: {' > '.join(route[0])}\\nCost: {route[1]}\\n\")\n",
    "\n",
    "print(\"Sample of Saturday Routes\")\n",
    "print(\"-------------------------\")\n",
    "route_printing(random.sample(saturday_routes, 4))\n",
    "\n",
    "print(\"Sample of Weekday Routes\")\n",
    "print(\"------------------------\")\n",
    "route_printing(random.sample(weekday_routes, 4))"
   ]
  },
  {
   "cell_type": "code",
   "execution_count": 22,
   "metadata": {},
   "outputs": [],
   "source": [
    "saturday_routes_df = convert_routes_to_dataframe(saturday_routes)\n",
    "weekday_routes_df = convert_routes_to_dataframe(weekday_routes)"
   ]
  },
  {
   "cell_type": "code",
   "execution_count": 23,
   "metadata": {},
   "outputs": [],
   "source": [
    "saturday_routes_df.to_csv(\"output/SaturdayRoutes.csv\", index=False)\n",
    "weekday_routes_df.to_csv(\"output/WeekdayRoutes.csv\", index=False)"
   ]
  }
 ],
 "metadata": {
  "kernelspec": {
   "display_name": "Python 3.10.5 ('env': venv)",
   "language": "python",
   "name": "python3"
  },
  "language_info": {
   "codemirror_mode": {
    "name": "ipython",
    "version": 3
   },
   "file_extension": ".py",
   "mimetype": "text/x-python",
   "name": "python",
   "nbconvert_exporter": "python",
   "pygments_lexer": "ipython3",
   "version": "3.10.5"
  },
  "vscode": {
   "interpreter": {
    "hash": "b9802198530425692927ed4d19a712402a29f50beecaed8989c38bdb6d569a2f"
   }
  }
 },
 "nbformat": 4,
 "nbformat_minor": 0
}
