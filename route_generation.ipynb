{
 "cells": [
  {
   "cell_type": "code",
   "execution_count": 1,
   "metadata": {},
   "outputs": [],
   "source": [
    "import pandas as pd\n",
    "from route_generation import *"
   ]
  },
  {
   "cell_type": "code",
   "execution_count": 2,
   "metadata": {},
   "outputs": [],
   "source": [
    "west = read_nodes(\"west.txt\")\n",
    "east = read_nodes(\"east.txt\")\n",
    "south = read_nodes(\"south.txt\")\n",
    "north = read_nodes(\"north.txt\")"
   ]
  },
  {
   "cell_type": "code",
   "execution_count": 3,
   "metadata": {},
   "outputs": [
    {
     "data": {
      "text/html": [
       "<div>\n",
       "<style scoped>\n",
       "    .dataframe tbody tr th:only-of-type {\n",
       "        vertical-align: middle;\n",
       "    }\n",
       "\n",
       "    .dataframe tbody tr th {\n",
       "        vertical-align: top;\n",
       "    }\n",
       "\n",
       "    .dataframe thead th {\n",
       "        text-align: right;\n",
       "    }\n",
       "</style>\n",
       "<table border=\"1\" class=\"dataframe\">\n",
       "  <thead>\n",
       "    <tr style=\"text-align: right;\">\n",
       "      <th></th>\n",
       "      <th>Brand</th>\n",
       "      <th>Location</th>\n",
       "      <th>Weekdays</th>\n",
       "      <th>Saturday</th>\n",
       "    </tr>\n",
       "  </thead>\n",
       "  <tbody>\n",
       "    <tr>\n",
       "      <th>0</th>\n",
       "      <td>Four Square</td>\n",
       "      <td>Alberton</td>\n",
       "      <td>3</td>\n",
       "      <td>1</td>\n",
       "    </tr>\n",
       "    <tr>\n",
       "      <th>1</th>\n",
       "      <td>Four Square</td>\n",
       "      <td>Botany Junction</td>\n",
       "      <td>2</td>\n",
       "      <td>0</td>\n",
       "    </tr>\n",
       "    <tr>\n",
       "      <th>2</th>\n",
       "      <td>Four Square</td>\n",
       "      <td>Cockle Bay</td>\n",
       "      <td>2</td>\n",
       "      <td>1</td>\n",
       "    </tr>\n",
       "    <tr>\n",
       "      <th>3</th>\n",
       "      <td>Four Square</td>\n",
       "      <td>Ellerslie</td>\n",
       "      <td>2</td>\n",
       "      <td>1</td>\n",
       "    </tr>\n",
       "    <tr>\n",
       "      <th>4</th>\n",
       "      <td>Four Square</td>\n",
       "      <td>Everglade</td>\n",
       "      <td>2</td>\n",
       "      <td>1</td>\n",
       "    </tr>\n",
       "  </tbody>\n",
       "</table>\n",
       "</div>"
      ],
      "text/plain": [
       "         Brand         Location  Weekdays  Saturday\n",
       "0  Four Square         Alberton         3         1\n",
       "1  Four Square  Botany Junction         2         0\n",
       "2  Four Square       Cockle Bay         2         1\n",
       "3  Four Square        Ellerslie         2         1\n",
       "4  Four Square        Everglade         2         1"
      ]
     },
     "execution_count": 3,
     "metadata": {},
     "output_type": "execute_result"
    }
   ],
   "source": [
    "Demands = pd.read_table('store_demand.txt', delimiter = ',')\n",
    "\n",
    "Demands.head()"
   ]
  },
  {
   "cell_type": "code",
   "execution_count": 4,
   "metadata": {},
   "outputs": [
    {
     "data": {
      "text/html": [
       "<div>\n",
       "<style scoped>\n",
       "    .dataframe tbody tr th:only-of-type {\n",
       "        vertical-align: middle;\n",
       "    }\n",
       "\n",
       "    .dataframe tbody tr th {\n",
       "        vertical-align: top;\n",
       "    }\n",
       "\n",
       "    .dataframe thead th {\n",
       "        text-align: right;\n",
       "    }\n",
       "</style>\n",
       "<table border=\"1\" class=\"dataframe\">\n",
       "  <thead>\n",
       "    <tr style=\"text-align: right;\">\n",
       "      <th></th>\n",
       "      <th>Brand</th>\n",
       "      <th>Location</th>\n",
       "      <th>Weekdays</th>\n",
       "      <th>Saturday</th>\n",
       "      <th>Supermarket</th>\n",
       "    </tr>\n",
       "  </thead>\n",
       "  <tbody>\n",
       "    <tr>\n",
       "      <th>0</th>\n",
       "      <td>Four Square</td>\n",
       "      <td>Alberton</td>\n",
       "      <td>3</td>\n",
       "      <td>1</td>\n",
       "      <td>Four Square Alberton</td>\n",
       "    </tr>\n",
       "    <tr>\n",
       "      <th>1</th>\n",
       "      <td>Four Square</td>\n",
       "      <td>Botany Junction</td>\n",
       "      <td>2</td>\n",
       "      <td>0</td>\n",
       "      <td>Four Square Botany Junction</td>\n",
       "    </tr>\n",
       "    <tr>\n",
       "      <th>2</th>\n",
       "      <td>Four Square</td>\n",
       "      <td>Cockle Bay</td>\n",
       "      <td>2</td>\n",
       "      <td>1</td>\n",
       "      <td>Four Square Cockle Bay</td>\n",
       "    </tr>\n",
       "    <tr>\n",
       "      <th>3</th>\n",
       "      <td>Four Square</td>\n",
       "      <td>Ellerslie</td>\n",
       "      <td>2</td>\n",
       "      <td>1</td>\n",
       "      <td>Four Square Ellerslie</td>\n",
       "    </tr>\n",
       "    <tr>\n",
       "      <th>4</th>\n",
       "      <td>Four Square</td>\n",
       "      <td>Everglade</td>\n",
       "      <td>2</td>\n",
       "      <td>1</td>\n",
       "      <td>Four Square Everglade</td>\n",
       "    </tr>\n",
       "  </tbody>\n",
       "</table>\n",
       "</div>"
      ],
      "text/plain": [
       "         Brand         Location  Weekdays  Saturday  \\\n",
       "0  Four Square         Alberton         3         1   \n",
       "1  Four Square  Botany Junction         2         0   \n",
       "2  Four Square       Cockle Bay         2         1   \n",
       "3  Four Square        Ellerslie         2         1   \n",
       "4  Four Square        Everglade         2         1   \n",
       "\n",
       "                   Supermarket  \n",
       "0         Four Square Alberton  \n",
       "1  Four Square Botany Junction  \n",
       "2       Four Square Cockle Bay  \n",
       "3        Four Square Ellerslie  \n",
       "4        Four Square Everglade  "
      ]
     },
     "execution_count": 4,
     "metadata": {},
     "output_type": "execute_result"
    }
   ],
   "source": [
    "Demands = Demands.assign(Supermarket = Demands.Brand + \" \" + Demands.Location)\n",
    "Demands.head()"
   ]
  },
  {
   "cell_type": "code",
   "execution_count": 5,
   "metadata": {
    "collapsed": false,
    "pycharm": {
     "name": "#%%\n"
    }
   },
   "outputs": [
    {
     "data": {
      "text/html": [
       "<div>\n",
       "<style scoped>\n",
       "    .dataframe tbody tr th:only-of-type {\n",
       "        vertical-align: middle;\n",
       "    }\n",
       "\n",
       "    .dataframe tbody tr th {\n",
       "        vertical-align: top;\n",
       "    }\n",
       "\n",
       "    .dataframe thead th {\n",
       "        text-align: right;\n",
       "    }\n",
       "</style>\n",
       "<table border=\"1\" class=\"dataframe\">\n",
       "  <thead>\n",
       "    <tr style=\"text-align: right;\">\n",
       "      <th></th>\n",
       "      <th>From</th>\n",
       "      <th>To</th>\n",
       "      <th>Distance</th>\n",
       "      <th>Duration</th>\n",
       "    </tr>\n",
       "  </thead>\n",
       "  <tbody>\n",
       "    <tr>\n",
       "      <th>0</th>\n",
       "      <td>New World Albany</td>\n",
       "      <td>New World Albany</td>\n",
       "      <td>0.00000</td>\n",
       "      <td>0.000000</td>\n",
       "    </tr>\n",
       "    <tr>\n",
       "      <th>1</th>\n",
       "      <td>New World Albany</td>\n",
       "      <td>New World Birkenhead</td>\n",
       "      <td>15.70707</td>\n",
       "      <td>23.833833</td>\n",
       "    </tr>\n",
       "    <tr>\n",
       "      <th>2</th>\n",
       "      <td>New World Albany</td>\n",
       "      <td>New World Botany</td>\n",
       "      <td>35.83163</td>\n",
       "      <td>49.946667</td>\n",
       "    </tr>\n",
       "    <tr>\n",
       "      <th>3</th>\n",
       "      <td>New World Albany</td>\n",
       "      <td>New World Browns Bay</td>\n",
       "      <td>5.00226</td>\n",
       "      <td>10.337833</td>\n",
       "    </tr>\n",
       "    <tr>\n",
       "      <th>4</th>\n",
       "      <td>New World Albany</td>\n",
       "      <td>New World Devonport</td>\n",
       "      <td>17.81659</td>\n",
       "      <td>29.654833</td>\n",
       "    </tr>\n",
       "  </tbody>\n",
       "</table>\n",
       "</div>"
      ],
      "text/plain": [
       "               From                    To  Distance   Duration\n",
       "0  New World Albany      New World Albany   0.00000   0.000000\n",
       "1  New World Albany  New World Birkenhead  15.70707  23.833833\n",
       "2  New World Albany      New World Botany  35.83163  49.946667\n",
       "3  New World Albany  New World Browns Bay   5.00226  10.337833\n",
       "4  New World Albany   New World Devonport  17.81659  29.654833"
      ]
     },
     "execution_count": 5,
     "metadata": {},
     "output_type": "execute_result"
    }
   ],
   "source": [
    "Durations = pd.read_csv(\"TravelCosts.csv\")\n",
    "Durations.head()"
   ]
  },
  {
   "cell_type": "code",
   "execution_count": 6,
   "metadata": {},
   "outputs": [],
   "source": [
    "regions = [west, north, south, east]\n",
    "dropouts=[0,0.2,0.5,0.8]"
   ]
  },
  {
   "cell_type": "code",
   "execution_count": 7,
   "metadata": {},
   "outputs": [
    {
     "name": "stdout",
     "output_type": "stream",
     "text": [
      "523\n"
     ]
    }
   ],
   "source": [
    "saturday_routes = aggregate_routes(regions, Demands, Durations, weekday=False, dropouts=dropouts)\n",
    "print(len(saturday_routes))\n"
   ]
  },
  {
   "cell_type": "code",
   "execution_count": 8,
   "metadata": {},
   "outputs": [],
   "source": [
    "write_routes(saturday_routes, \"saturday_routes.txt\")"
   ]
  },
  {
   "cell_type": "code",
   "execution_count": 7,
   "metadata": {},
   "outputs": [
    {
     "name": "stdout",
     "output_type": "stream",
     "text": [
      "243\n"
     ]
    }
   ],
   "source": [
    "weekday_routes = aggregate_routes(regions, Demands, Durations, dropouts=dropouts)\n",
    "print(len(weekday_routes))"
   ]
  },
  {
   "cell_type": "code",
   "execution_count": 8,
   "metadata": {},
   "outputs": [],
   "source": [
    "write_routes(weekday_routes, \"weekday_routes.txt\")"
   ]
  },
  {
   "cell_type": "code",
   "execution_count": 11,
   "metadata": {},
   "outputs": [
    {
     "name": "stdout",
     "output_type": "stream",
     "text": [
      "Sample of Saturday Routes\n",
      "-------------------------\n",
      "Route: Warehouse > Pak 'n Save Clendon > Pak 'n Save Papakura > Warehouse\n",
      "Cost: 210.11624999999998\n",
      "\n",
      "Route: Warehouse > Four Square Fair Price Henderson > Warehouse\n",
      "Cost: 119.63625\n",
      "\n",
      "Route: Warehouse > Pak 'n Save Botany > New World Botany > Warehouse\n",
      "Cost: 205.30375000000006\n",
      "\n",
      "Route: Warehouse > New World Remuera > New World Stonefields > Four Square Ellerslie > Pak 'n Save Sylvia Park > Four Square Pakuranga Heights > New World Botany > Warehouse\n",
      "Cost: 303.8504166666668\n",
      "\n",
      "Sample of Weekday Routes\n",
      "------------------------\n",
      "Route: Warehouse > Pak 'n Save Royal Oak > Four Square Ellerslie > Warehouse\n",
      "Cost: 114.28041666666658\n",
      "\n",
      "Route: Warehouse > New World Mt Roskill > Pak 'n Save Mangere > Warehouse\n",
      "Cost: 109.76166666666681\n",
      "\n",
      "Route: Warehouse > New World Remuera > New World Mt Roskill > Warehouse\n",
      "Cost: 122.88875000000002\n",
      "\n",
      "Route: Warehouse > New World Papakura > Warehouse\n",
      "Cost: 189.43166666666679\n",
      "\n"
     ]
    }
   ],
   "source": [
    "import random\n",
    "\n",
    "def route_printing(routes):\n",
    "    for route in routes:\n",
    "        print(\"Route: \" + \" > \".join(route[0]))\n",
    "        print(\"Cost: \" + str(route[1]))\n",
    "        print(\"\")\n",
    "\n",
    "print(\"Sample of Saturday Routes\")\n",
    "print(\"-------------------------\")\n",
    "route_printing(random.sample(saturday_routes, 4))\n",
    "\n",
    "print(\"Sample of Weekday Routes\")\n",
    "print(\"------------------------\")\n",
    "route_printing(random.sample(weekday_routes, 4))"
   ]
  }
 ],
 "metadata": {
  "kernelspec": {
   "display_name": "Python 3.10.5 64-bit",
   "language": "python",
   "name": "python3"
  },
  "language_info": {
   "codemirror_mode": {
    "name": "ipython",
    "version": 3
   },
   "file_extension": ".py",
   "mimetype": "text/x-python",
   "name": "python",
   "nbconvert_exporter": "python",
   "pygments_lexer": "ipython3",
   "version": "3.10.5"
  },
  "vscode": {
   "interpreter": {
    "hash": "369f2c481f4da34e4445cda3fffd2e751bd1c4d706f27375911949ba6bb62e1c"
   }
  }
 },
 "nbformat": 4,
 "nbformat_minor": 0
}
