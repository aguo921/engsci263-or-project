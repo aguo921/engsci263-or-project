{
 "cells": [
  {
   "cell_type": "code",
   "execution_count": 1,
   "metadata": {},
   "outputs": [],
   "source": [
    "import pandas as pd\n",
    "from route_generation import *"
   ]
  },
  {
   "cell_type": "code",
   "execution_count": 2,
   "metadata": {},
   "outputs": [
    {
     "data": {
      "text/html": [
       "<div>\n",
       "<style scoped>\n",
       "    .dataframe tbody tr th:only-of-type {\n",
       "        vertical-align: middle;\n",
       "    }\n",
       "\n",
       "    .dataframe tbody tr th {\n",
       "        vertical-align: top;\n",
       "    }\n",
       "\n",
       "    .dataframe thead th {\n",
       "        text-align: right;\n",
       "    }\n",
       "</style>\n",
       "<table border=\"1\" class=\"dataframe\">\n",
       "  <thead>\n",
       "    <tr style=\"text-align: right;\">\n",
       "      <th></th>\n",
       "      <th>Brand</th>\n",
       "      <th>Location</th>\n",
       "      <th>Weekdays</th>\n",
       "      <th>Saturday</th>\n",
       "    </tr>\n",
       "  </thead>\n",
       "  <tbody>\n",
       "    <tr>\n",
       "      <th>0</th>\n",
       "      <td>Four Square</td>\n",
       "      <td>Alberton</td>\n",
       "      <td>3</td>\n",
       "      <td>1</td>\n",
       "    </tr>\n",
       "    <tr>\n",
       "      <th>1</th>\n",
       "      <td>Four Square</td>\n",
       "      <td>Botany Junction</td>\n",
       "      <td>2</td>\n",
       "      <td>0</td>\n",
       "    </tr>\n",
       "    <tr>\n",
       "      <th>2</th>\n",
       "      <td>Four Square</td>\n",
       "      <td>Cockle Bay</td>\n",
       "      <td>2</td>\n",
       "      <td>1</td>\n",
       "    </tr>\n",
       "    <tr>\n",
       "      <th>3</th>\n",
       "      <td>Four Square</td>\n",
       "      <td>Ellerslie</td>\n",
       "      <td>2</td>\n",
       "      <td>1</td>\n",
       "    </tr>\n",
       "    <tr>\n",
       "      <th>4</th>\n",
       "      <td>Four Square</td>\n",
       "      <td>Everglade</td>\n",
       "      <td>2</td>\n",
       "      <td>1</td>\n",
       "    </tr>\n",
       "  </tbody>\n",
       "</table>\n",
       "</div>"
      ],
      "text/plain": [
       "         Brand         Location  Weekdays  Saturday\n",
       "0  Four Square         Alberton         3         1\n",
       "1  Four Square  Botany Junction         2         0\n",
       "2  Four Square       Cockle Bay         2         1\n",
       "3  Four Square        Ellerslie         2         1\n",
       "4  Four Square        Everglade         2         1"
      ]
     },
     "execution_count": 2,
     "metadata": {},
     "output_type": "execute_result"
    }
   ],
   "source": [
    "Demands = pd.read_table('store_demand.txt', delimiter = ',')\n",
    "\n",
    "Demands.head()"
   ]
  },
  {
   "cell_type": "code",
   "execution_count": 3,
   "metadata": {},
   "outputs": [
    {
     "data": {
      "text/html": [
       "<div>\n",
       "<style scoped>\n",
       "    .dataframe tbody tr th:only-of-type {\n",
       "        vertical-align: middle;\n",
       "    }\n",
       "\n",
       "    .dataframe tbody tr th {\n",
       "        vertical-align: top;\n",
       "    }\n",
       "\n",
       "    .dataframe thead th {\n",
       "        text-align: right;\n",
       "    }\n",
       "</style>\n",
       "<table border=\"1\" class=\"dataframe\">\n",
       "  <thead>\n",
       "    <tr style=\"text-align: right;\">\n",
       "      <th></th>\n",
       "      <th>Brand</th>\n",
       "      <th>Location</th>\n",
       "      <th>Weekdays</th>\n",
       "      <th>Saturday</th>\n",
       "      <th>Supermarket</th>\n",
       "    </tr>\n",
       "  </thead>\n",
       "  <tbody>\n",
       "    <tr>\n",
       "      <th>0</th>\n",
       "      <td>Four Square</td>\n",
       "      <td>Alberton</td>\n",
       "      <td>3</td>\n",
       "      <td>1</td>\n",
       "      <td>Four Square Alberton</td>\n",
       "    </tr>\n",
       "    <tr>\n",
       "      <th>1</th>\n",
       "      <td>Four Square</td>\n",
       "      <td>Botany Junction</td>\n",
       "      <td>2</td>\n",
       "      <td>0</td>\n",
       "      <td>Four Square Botany Junction</td>\n",
       "    </tr>\n",
       "    <tr>\n",
       "      <th>2</th>\n",
       "      <td>Four Square</td>\n",
       "      <td>Cockle Bay</td>\n",
       "      <td>2</td>\n",
       "      <td>1</td>\n",
       "      <td>Four Square Cockle Bay</td>\n",
       "    </tr>\n",
       "    <tr>\n",
       "      <th>3</th>\n",
       "      <td>Four Square</td>\n",
       "      <td>Ellerslie</td>\n",
       "      <td>2</td>\n",
       "      <td>1</td>\n",
       "      <td>Four Square Ellerslie</td>\n",
       "    </tr>\n",
       "    <tr>\n",
       "      <th>4</th>\n",
       "      <td>Four Square</td>\n",
       "      <td>Everglade</td>\n",
       "      <td>2</td>\n",
       "      <td>1</td>\n",
       "      <td>Four Square Everglade</td>\n",
       "    </tr>\n",
       "  </tbody>\n",
       "</table>\n",
       "</div>"
      ],
      "text/plain": [
       "         Brand         Location  Weekdays  Saturday  \\\n",
       "0  Four Square         Alberton         3         1   \n",
       "1  Four Square  Botany Junction         2         0   \n",
       "2  Four Square       Cockle Bay         2         1   \n",
       "3  Four Square        Ellerslie         2         1   \n",
       "4  Four Square        Everglade         2         1   \n",
       "\n",
       "                   Supermarket  \n",
       "0         Four Square Alberton  \n",
       "1  Four Square Botany Junction  \n",
       "2       Four Square Cockle Bay  \n",
       "3        Four Square Ellerslie  \n",
       "4        Four Square Everglade  "
      ]
     },
     "execution_count": 3,
     "metadata": {},
     "output_type": "execute_result"
    }
   ],
   "source": [
    "Demands = Demands.assign(Supermarket = Demands.Brand + \" \" + Demands.Location)\n",
    "Demands.head()"
   ]
  },
  {
   "cell_type": "code",
   "execution_count": 11,
   "metadata": {
    "collapsed": false,
    "pycharm": {
     "name": "#%%\n"
    }
   },
   "outputs": [
    {
     "data": {
      "text/html": [
       "<div>\n",
       "<style scoped>\n",
       "    .dataframe tbody tr th:only-of-type {\n",
       "        vertical-align: middle;\n",
       "    }\n",
       "\n",
       "    .dataframe tbody tr th {\n",
       "        vertical-align: top;\n",
       "    }\n",
       "\n",
       "    .dataframe thead th {\n",
       "        text-align: right;\n",
       "    }\n",
       "</style>\n",
       "<table border=\"1\" class=\"dataframe\">\n",
       "  <thead>\n",
       "    <tr style=\"text-align: right;\">\n",
       "      <th></th>\n",
       "      <th>From</th>\n",
       "      <th>To</th>\n",
       "      <th>Distance</th>\n",
       "      <th>Duration</th>\n",
       "    </tr>\n",
       "  </thead>\n",
       "  <tbody>\n",
       "    <tr>\n",
       "      <th>0</th>\n",
       "      <td>New World Albany</td>\n",
       "      <td>New World Albany</td>\n",
       "      <td>0.00000</td>\n",
       "      <td>0.000000</td>\n",
       "    </tr>\n",
       "    <tr>\n",
       "      <th>1</th>\n",
       "      <td>New World Albany</td>\n",
       "      <td>New World Birkenhead</td>\n",
       "      <td>15.70707</td>\n",
       "      <td>23.833833</td>\n",
       "    </tr>\n",
       "    <tr>\n",
       "      <th>2</th>\n",
       "      <td>New World Albany</td>\n",
       "      <td>New World Botany</td>\n",
       "      <td>35.83163</td>\n",
       "      <td>49.946667</td>\n",
       "    </tr>\n",
       "    <tr>\n",
       "      <th>3</th>\n",
       "      <td>New World Albany</td>\n",
       "      <td>New World Browns Bay</td>\n",
       "      <td>5.00226</td>\n",
       "      <td>10.337833</td>\n",
       "    </tr>\n",
       "    <tr>\n",
       "      <th>4</th>\n",
       "      <td>New World Albany</td>\n",
       "      <td>New World Devonport</td>\n",
       "      <td>17.81659</td>\n",
       "      <td>29.654833</td>\n",
       "    </tr>\n",
       "  </tbody>\n",
       "</table>\n",
       "</div>"
      ],
      "text/plain": [
       "               From                    To  Distance   Duration\n",
       "0  New World Albany      New World Albany   0.00000   0.000000\n",
       "1  New World Albany  New World Birkenhead  15.70707  23.833833\n",
       "2  New World Albany      New World Botany  35.83163  49.946667\n",
       "3  New World Albany  New World Browns Bay   5.00226  10.337833\n",
       "4  New World Albany   New World Devonport  17.81659  29.654833"
      ]
     },
     "execution_count": 11,
     "metadata": {},
     "output_type": "execute_result"
    }
   ],
   "source": [
    "Durations = pd.read_csv(\"TravelCosts.csv\")\n",
    "Durations.head()"
   ]
  },
  {
   "cell_type": "code",
   "execution_count": 5,
   "metadata": {},
   "outputs": [
    {
     "name": "stdout",
     "output_type": "stream",
     "text": [
      "298\n"
     ]
    }
   ],
   "source": [
    "nodes = Demands.Supermarket.values.tolist()\n",
    "\n",
    "saturday_routes = generate_routes(nodes, Demands, Durations, weekday=False)\n",
    "print(len(saturday_routes))"
   ]
  },
  {
   "cell_type": "code",
   "execution_count": 6,
   "metadata": {},
   "outputs": [
    {
     "name": "stdout",
     "output_type": "stream",
     "text": [
      "172\n"
     ]
    }
   ],
   "source": [
    "weekday_routes = generate_routes(nodes, Demands, Durations)\n",
    "print(len(weekday_routes))"
   ]
  },
  {
   "cell_type": "code",
   "execution_count": 7,
   "metadata": {},
   "outputs": [
    {
     "name": "stdout",
     "output_type": "stream",
     "text": [
      "200\n",
      "129\n"
     ]
    }
   ],
   "source": [
    "saturday_routes = remove_duplicate_routes(saturday_routes)\n",
    "weekday_routes = remove_duplicate_routes(weekday_routes)\n",
    "\n",
    "print(len(saturday_routes))\n",
    "print(len(weekday_routes))"
   ]
  },
  {
   "cell_type": "code",
   "execution_count": 8,
   "metadata": {},
   "outputs": [],
   "source": [
    "with open(\"saturday_routes.txt\", \"w\") as f:\n",
    "    for route in saturday_routes:\n",
    "        f.write(\",\".join(route))\n",
    "        f.write(\"\\n\")\n",
    "\n",
    "with open(\"weekday_routes.txt\", \"w\") as f:\n",
    "    for route in weekday_routes:\n",
    "        f.write(\",\".join(route))\n",
    "        f.write(\"\\n\")"
   ]
  },
  {
   "cell_type": "code",
   "execution_count": 9,
   "metadata": {},
   "outputs": [
    {
     "name": "stdout",
     "output_type": "stream",
     "text": [
      "[['Warehouse', 'New World Southmall', 'Warehouse'], ['Warehouse', 'New World Papatoetoe', \"Pak 'n Save Manukau\", 'Four Square Botany Junction', 'Four Square Everglade', 'New World Southmall', \"Pak 'n Save Clendon\", 'Warehouse'], ['Warehouse', 'Four Square Alberton', \"Pak 'n Save Mt Albert\", 'New World Mt Roskill', \"Pak 'n Save Royal Oak\", 'Four Square Ellerslie', 'New World Remuera', 'Warehouse'], ['Warehouse', 'Four Square Lancaster', 'New World Birkenhead', 'Warehouse'], ['Warehouse', 'Four Square Ellerslie', \"Pak 'n Save Sylvia Park\", 'New World Stonefields', 'New World Remuera', \"Pak 'n Save Royal Oak\", 'New World Mt Roskill', 'Warehouse'], ['Warehouse', \"Pak 'n Save Mangere\", 'New World Mt Roskill', 'Four Square Alberton', \"Pak 'n Save Mt Albert\", 'New World New Lynn', 'New World Green Bay', 'Warehouse'], ['Warehouse', 'Four Square Botany Junction', 'New World Ormiston', \"Pak 'n Save Ormiston\", 'Four Square Everglade', \"Pak 'n Save Manukau\", 'New World Papatoetoe', 'Warehouse'], ['Warehouse', 'New World Birkenhead', 'Warehouse'], ['Warehouse', 'Four Square Glen Eden', 'New World New Lynn', \"Pak 'n Save Mt Albert\", 'Four Square Alberton', 'Warehouse'], ['Warehouse', 'Four Square Glen Eden', 'Warehouse']]\n",
      "[['Warehouse', 'New World Devonport', 'Warehouse'], ['Warehouse', 'New World Devonport', 'New World Metro Shore City', 'Warehouse'], ['Warehouse', \"Pak 'n Save Sylvia Park\", 'Warehouse'], ['Warehouse', 'Four Square Hobsonville', \"Pak 'n Save Westgate\", \"Pak 'n Save Lincoln Road\", 'Warehouse'], ['Warehouse', 'New World Southmall', 'Four Square Everglade', \"Pak 'n Save Manukau\", 'Warehouse'], ['Warehouse', 'New World New Lynn', 'Warehouse'], ['Warehouse', 'Four Square Glen Eden', 'New World New Lynn', 'Warehouse'], ['Warehouse', \"Pak 'n Save Clendon\", 'New World Southmall', 'Warehouse'], ['Warehouse', 'Four Square Everglade', \"Pak 'n Save Manukau\", 'New World Papatoetoe', 'Warehouse'], ['Warehouse', 'New World Howick', 'Warehouse']]\n"
     ]
    }
   ],
   "source": [
    "import random\n",
    "\n",
    "print(random.sample(saturday_routes, 10))\n",
    "print(random.sample(weekday_routes, 10))"
   ]
  }
 ],
 "metadata": {
  "kernelspec": {
   "display_name": "Python 3.10.5 64-bit",
   "language": "python",
   "name": "python3"
  },
  "language_info": {
   "codemirror_mode": {
    "name": "ipython",
    "version": 3
   },
   "file_extension": ".py",
   "mimetype": "text/x-python",
   "name": "python",
   "nbconvert_exporter": "python",
   "pygments_lexer": "ipython3",
   "version": "3.10.5"
  },
  "vscode": {
   "interpreter": {
    "hash": "369f2c481f4da34e4445cda3fffd2e751bd1c4d706f27375911949ba6bb62e1c"
   }
  }
 },
 "nbformat": 4,
 "nbformat_minor": 0
}
