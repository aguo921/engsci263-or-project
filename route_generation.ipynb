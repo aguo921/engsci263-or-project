{
 "cells": [
  {
   "cell_type": "code",
   "execution_count": 1,
   "metadata": {},
   "outputs": [],
   "source": [
    "import pandas as pd\n",
    "from route_generation import *"
   ]
  },
  {
   "cell_type": "code",
   "execution_count": 2,
   "metadata": {},
   "outputs": [
    {
     "data": {
      "text/html": [
       "<div>\n",
       "<style scoped>\n",
       "    .dataframe tbody tr th:only-of-type {\n",
       "        vertical-align: middle;\n",
       "    }\n",
       "\n",
       "    .dataframe tbody tr th {\n",
       "        vertical-align: top;\n",
       "    }\n",
       "\n",
       "    .dataframe thead th {\n",
       "        text-align: right;\n",
       "    }\n",
       "</style>\n",
       "<table border=\"1\" class=\"dataframe\">\n",
       "  <thead>\n",
       "    <tr style=\"text-align: right;\">\n",
       "      <th></th>\n",
       "      <th>Brand</th>\n",
       "      <th>Location</th>\n",
       "      <th>Weekdays</th>\n",
       "      <th>Saturday</th>\n",
       "    </tr>\n",
       "  </thead>\n",
       "  <tbody>\n",
       "    <tr>\n",
       "      <th>0</th>\n",
       "      <td>Four Square</td>\n",
       "      <td>Alberton</td>\n",
       "      <td>3</td>\n",
       "      <td>1</td>\n",
       "    </tr>\n",
       "    <tr>\n",
       "      <th>1</th>\n",
       "      <td>Four Square</td>\n",
       "      <td>Botany Junction</td>\n",
       "      <td>2</td>\n",
       "      <td>0</td>\n",
       "    </tr>\n",
       "    <tr>\n",
       "      <th>2</th>\n",
       "      <td>Four Square</td>\n",
       "      <td>Cockle Bay</td>\n",
       "      <td>2</td>\n",
       "      <td>1</td>\n",
       "    </tr>\n",
       "    <tr>\n",
       "      <th>3</th>\n",
       "      <td>Four Square</td>\n",
       "      <td>Ellerslie</td>\n",
       "      <td>2</td>\n",
       "      <td>1</td>\n",
       "    </tr>\n",
       "    <tr>\n",
       "      <th>4</th>\n",
       "      <td>Four Square</td>\n",
       "      <td>Everglade</td>\n",
       "      <td>2</td>\n",
       "      <td>1</td>\n",
       "    </tr>\n",
       "  </tbody>\n",
       "</table>\n",
       "</div>"
      ],
      "text/plain": [
       "         Brand         Location  Weekdays  Saturday\n",
       "0  Four Square         Alberton         3         1\n",
       "1  Four Square  Botany Junction         2         0\n",
       "2  Four Square       Cockle Bay         2         1\n",
       "3  Four Square        Ellerslie         2         1\n",
       "4  Four Square        Everglade         2         1"
      ]
     },
     "execution_count": 2,
     "metadata": {},
     "output_type": "execute_result"
    }
   ],
   "source": [
    "Demands = pd.read_table('store_demand.txt', delimiter = ',')\n",
    "\n",
    "Demands.head()"
   ]
  },
  {
   "cell_type": "code",
   "execution_count": 3,
   "metadata": {},
   "outputs": [
    {
     "data": {
      "text/html": [
       "<div>\n",
       "<style scoped>\n",
       "    .dataframe tbody tr th:only-of-type {\n",
       "        vertical-align: middle;\n",
       "    }\n",
       "\n",
       "    .dataframe tbody tr th {\n",
       "        vertical-align: top;\n",
       "    }\n",
       "\n",
       "    .dataframe thead th {\n",
       "        text-align: right;\n",
       "    }\n",
       "</style>\n",
       "<table border=\"1\" class=\"dataframe\">\n",
       "  <thead>\n",
       "    <tr style=\"text-align: right;\">\n",
       "      <th></th>\n",
       "      <th>Brand</th>\n",
       "      <th>Location</th>\n",
       "      <th>Weekdays</th>\n",
       "      <th>Saturday</th>\n",
       "      <th>Supermarket</th>\n",
       "    </tr>\n",
       "  </thead>\n",
       "  <tbody>\n",
       "    <tr>\n",
       "      <th>0</th>\n",
       "      <td>Four Square</td>\n",
       "      <td>Alberton</td>\n",
       "      <td>3</td>\n",
       "      <td>1</td>\n",
       "      <td>Four Square Alberton</td>\n",
       "    </tr>\n",
       "    <tr>\n",
       "      <th>1</th>\n",
       "      <td>Four Square</td>\n",
       "      <td>Botany Junction</td>\n",
       "      <td>2</td>\n",
       "      <td>0</td>\n",
       "      <td>Four Square Botany Junction</td>\n",
       "    </tr>\n",
       "    <tr>\n",
       "      <th>2</th>\n",
       "      <td>Four Square</td>\n",
       "      <td>Cockle Bay</td>\n",
       "      <td>2</td>\n",
       "      <td>1</td>\n",
       "      <td>Four Square Cockle Bay</td>\n",
       "    </tr>\n",
       "    <tr>\n",
       "      <th>3</th>\n",
       "      <td>Four Square</td>\n",
       "      <td>Ellerslie</td>\n",
       "      <td>2</td>\n",
       "      <td>1</td>\n",
       "      <td>Four Square Ellerslie</td>\n",
       "    </tr>\n",
       "    <tr>\n",
       "      <th>4</th>\n",
       "      <td>Four Square</td>\n",
       "      <td>Everglade</td>\n",
       "      <td>2</td>\n",
       "      <td>1</td>\n",
       "      <td>Four Square Everglade</td>\n",
       "    </tr>\n",
       "  </tbody>\n",
       "</table>\n",
       "</div>"
      ],
      "text/plain": [
       "         Brand         Location  Weekdays  Saturday  \\\n",
       "0  Four Square         Alberton         3         1   \n",
       "1  Four Square  Botany Junction         2         0   \n",
       "2  Four Square       Cockle Bay         2         1   \n",
       "3  Four Square        Ellerslie         2         1   \n",
       "4  Four Square        Everglade         2         1   \n",
       "\n",
       "                   Supermarket  \n",
       "0         Four Square Alberton  \n",
       "1  Four Square Botany Junction  \n",
       "2       Four Square Cockle Bay  \n",
       "3        Four Square Ellerslie  \n",
       "4        Four Square Everglade  "
      ]
     },
     "execution_count": 3,
     "metadata": {},
     "output_type": "execute_result"
    }
   ],
   "source": [
    "Demands = Demands.assign(Supermarket = Demands.Brand + \" \" + Demands.Location)\n",
    "Demands.head()"
   ]
  },
  {
   "cell_type": "code",
   "execution_count": 4,
   "metadata": {
    "collapsed": false,
    "pycharm": {
     "name": "#%%\n"
    }
   },
   "outputs": [
    {
     "data": {
      "text/html": [
       "<div>\n",
       "<style scoped>\n",
       "    .dataframe tbody tr th:only-of-type {\n",
       "        vertical-align: middle;\n",
       "    }\n",
       "\n",
       "    .dataframe tbody tr th {\n",
       "        vertical-align: top;\n",
       "    }\n",
       "\n",
       "    .dataframe thead th {\n",
       "        text-align: right;\n",
       "    }\n",
       "</style>\n",
       "<table border=\"1\" class=\"dataframe\">\n",
       "  <thead>\n",
       "    <tr style=\"text-align: right;\">\n",
       "      <th></th>\n",
       "      <th>From</th>\n",
       "      <th>To</th>\n",
       "      <th>Distance</th>\n",
       "      <th>Duration</th>\n",
       "    </tr>\n",
       "  </thead>\n",
       "  <tbody>\n",
       "    <tr>\n",
       "      <th>0</th>\n",
       "      <td>New World Albany</td>\n",
       "      <td>New World Albany</td>\n",
       "      <td>0.00000</td>\n",
       "      <td>0.000000</td>\n",
       "    </tr>\n",
       "    <tr>\n",
       "      <th>1</th>\n",
       "      <td>New World Albany</td>\n",
       "      <td>New World Birkenhead</td>\n",
       "      <td>15.70707</td>\n",
       "      <td>23.833833</td>\n",
       "    </tr>\n",
       "    <tr>\n",
       "      <th>2</th>\n",
       "      <td>New World Albany</td>\n",
       "      <td>New World Botany</td>\n",
       "      <td>35.83163</td>\n",
       "      <td>49.946667</td>\n",
       "    </tr>\n",
       "    <tr>\n",
       "      <th>3</th>\n",
       "      <td>New World Albany</td>\n",
       "      <td>New World Browns Bay</td>\n",
       "      <td>5.00226</td>\n",
       "      <td>10.337833</td>\n",
       "    </tr>\n",
       "    <tr>\n",
       "      <th>4</th>\n",
       "      <td>New World Albany</td>\n",
       "      <td>New World Devonport</td>\n",
       "      <td>17.81659</td>\n",
       "      <td>29.654833</td>\n",
       "    </tr>\n",
       "  </tbody>\n",
       "</table>\n",
       "</div>"
      ],
      "text/plain": [
       "               From                    To  Distance   Duration\n",
       "0  New World Albany      New World Albany   0.00000   0.000000\n",
       "1  New World Albany  New World Birkenhead  15.70707  23.833833\n",
       "2  New World Albany      New World Botany  35.83163  49.946667\n",
       "3  New World Albany  New World Browns Bay   5.00226  10.337833\n",
       "4  New World Albany   New World Devonport  17.81659  29.654833"
      ]
     },
     "execution_count": 4,
     "metadata": {},
     "output_type": "execute_result"
    }
   ],
   "source": [
    "Durations = pd.read_csv(\"TravelCosts.csv\")\n",
    "Durations.head()"
   ]
  },
  {
   "cell_type": "code",
   "execution_count": 5,
   "metadata": {},
   "outputs": [],
   "source": [
    "nodes = Demands.Supermarket.values.tolist()"
   ]
  },
  {
   "cell_type": "code",
   "execution_count": 6,
   "metadata": {},
   "outputs": [
    {
     "name": "stdout",
     "output_type": "stream",
     "text": [
      "298\n",
      "302\n",
      "294\n",
      "311\n"
     ]
    }
   ],
   "source": [
    "saturday_routes1 = generate_routes(nodes, Demands, Durations, weekday=False)\n",
    "print(len(saturday_routes1))\n",
    "\n",
    "saturday_routes2 = generate_routes(nodes, Demands, Durations, weekday=False, dropout=0.2)\n",
    "print(len(saturday_routes2))\n",
    "\n",
    "saturday_routes3 = generate_routes(nodes, Demands, Durations, weekday=False, dropout=0.5)\n",
    "print(len(saturday_routes3))\n",
    "\n",
    "saturday_routes4 = generate_routes(nodes, Demands, Durations, weekday=False, dropout=0.8)\n",
    "print(len(saturday_routes4))"
   ]
  },
  {
   "cell_type": "code",
   "execution_count": 7,
   "metadata": {},
   "outputs": [
    {
     "name": "stdout",
     "output_type": "stream",
     "text": [
      "513\n"
     ]
    }
   ],
   "source": [
    "saturday_routes = remove_duplicate_routes(saturday_routes1 + saturday_routes2 + saturday_routes3 + saturday_routes4)\n",
    "print(len(saturday_routes))\n"
   ]
  },
  {
   "cell_type": "code",
   "execution_count": 8,
   "metadata": {},
   "outputs": [],
   "source": [
    "write_routes(saturday_routes, \"saturday_routes.txt\")"
   ]
  },
  {
   "cell_type": "code",
   "execution_count": 9,
   "metadata": {},
   "outputs": [
    {
     "name": "stdout",
     "output_type": "stream",
     "text": [
      "172\n",
      "172\n",
      "175\n",
      "173\n"
     ]
    }
   ],
   "source": [
    "weekday_routes1 = generate_routes(nodes, Demands, Durations)\n",
    "print(len(weekday_routes1))\n",
    "\n",
    "weekday_routes2 = generate_routes(nodes, Demands, Durations, dropout=0.2)\n",
    "print(len(weekday_routes2))\n",
    "\n",
    "weekday_routes3 = generate_routes(nodes, Demands, Durations, dropout=0.5)\n",
    "print(len(weekday_routes3))\n",
    "\n",
    "weekday_routes4 = generate_routes(nodes, Demands, Durations, dropout=0.8)\n",
    "print(len(weekday_routes4))"
   ]
  },
  {
   "cell_type": "code",
   "execution_count": 10,
   "metadata": {},
   "outputs": [
    {
     "name": "stdout",
     "output_type": "stream",
     "text": [
      "290\n"
     ]
    }
   ],
   "source": [
    "weekday_routes = remove_duplicate_routes(weekday_routes1 + weekday_routes2 + weekday_routes3 + weekday_routes4)\n",
    "print(len(weekday_routes))"
   ]
  },
  {
   "cell_type": "code",
   "execution_count": 11,
   "metadata": {},
   "outputs": [],
   "source": [
    "write_routes(weekday_routes, \"weekday_routes.txt\")"
   ]
  },
  {
   "cell_type": "code",
   "execution_count": 12,
   "metadata": {},
   "outputs": [
    {
     "name": "stdout",
     "output_type": "stream",
     "text": [
      "[(['Warehouse', 'Four Square Fair Price Henderson', \"Pak 'n Save Henderson\", 'Four Square Glen Eden', 'Four Square Alberton', 'New World Mt Roskill', 'Warehouse'], 222.21958333333325), (['Warehouse', 'Four Square Botany Junction', 'Four Square Everglade', 'New World Papatoetoe', \"Pak 'n Save Sylvia Park\", \"Pak 'n Save Manukau\", 'New World Southmall', \"Pak 'n Save Clendon\", 'Warehouse'], 370.82541666666685), (['Warehouse', \"Pak 'n Save Mangere\", \"Pak 'n Save Manukau\", 'Four Square Everglade', 'New World Southmall', 'New World Papatoetoe', 'Warehouse'], 254.69625000000022), (['Warehouse', 'Four Square Alberton', 'New World Victoria Park', 'New World Metro Queen St', 'Warehouse'], 147.20958333333326), (['Warehouse', \"Pak 'n Save Henderson\", 'Four Square Glen Eden', 'Warehouse'], 153.43083333333325), (['Warehouse', 'New World Birkenhead', 'New World Metro Queen St', 'New World Victoria Park', 'Four Square Alberton', 'New World Mt Roskill', 'Warehouse'], 237.79541666666677), (['Warehouse', 'Four Square Lancaster', 'New World Birkenhead', \"Pak 'n Save Wairau Road\", 'New World Metro Shore City', 'Four Square Alberton', \"Pak 'n Save Mt Albert\", 'Warehouse'], 305.3679166666665), (['Warehouse', 'New World Metro Shore City', 'New World Albany', \"Pak 'n Save Albany\", 'Warehouse'], 240.20624999999973), (['Warehouse', 'Four Square Lancaster', 'New World Birkenhead', \"Pak 'n Save Wairau Road\", 'New World Milford', 'New World Metro Queen St', 'Four Square Alberton', 'Warehouse'], 324.7908333333332), (['Warehouse', 'New World Howick', 'Warehouse'], 207.065)]\n",
      "[(['Warehouse', 'Four Square Alberton', 'New World Metro Queen St', \"Pak 'n Save Albany\", 'Warehouse'], 243.68624999999994), (['Warehouse', 'Four Square St Heliers', \"Pak 'n Save Glen Innes\", 'Warehouse'], 198.1749999999999), (['Warehouse', 'Four Square Lancaster', 'Warehouse'], 181.72874999999996), (['Warehouse', 'New World Green Bay', 'New World New Lynn', 'Four Square Alberton', 'New World Mt Roskill', 'Warehouse'], 151.40375000000014), (['Warehouse', 'New World Milford', 'New World Victoria Park', 'New World Metro Queen St', 'Warehouse'], 207.57541666666654), (['Warehouse', \"Pak 'n Save Sylvia Park\", 'New World Stonefields', 'Four Square Ellerslie', \"Pak 'n Save Royal Oak\", 'Warehouse'], 186.35250000000008), (['Warehouse', 'Four Square Alberton', \"Pak 'n Save Mt Albert\", \"Pak 'n Save Royal Oak\", 'Four Square Ellerslie', 'Warehouse'], 175.95166666666674), (['Warehouse', \"Pak 'n Save Wairau Road\", 'New World Metro Shore City', 'Warehouse'], 188.65083333333334), (['Warehouse', 'Four Square Alberton', 'Four Square Glen Eden', 'New World New Lynn', 'Warehouse'], 161.24958333333336), (['Warehouse', \"Pak 'n Save Royal Oak\", 'Four Square Ellerslie', 'Warehouse'], 114.28041666666658)]\n"
     ]
    }
   ],
   "source": [
    "import random\n",
    "\n",
    "print(random.sample(saturday_routes, 10))\n",
    "print(random.sample(weekday_routes, 10))"
   ]
  }
 ],
 "metadata": {
  "kernelspec": {
   "display_name": "Python 3.10.5 64-bit",
   "language": "python",
   "name": "python3"
  },
  "language_info": {
   "codemirror_mode": {
    "name": "ipython",
    "version": 3
   },
   "file_extension": ".py",
   "mimetype": "text/x-python",
   "name": "python",
   "nbconvert_exporter": "python",
   "pygments_lexer": "ipython3",
   "version": "3.10.5"
  },
  "vscode": {
   "interpreter": {
    "hash": "369f2c481f4da34e4445cda3fffd2e751bd1c4d706f27375911949ba6bb62e1c"
   }
  }
 },
 "nbformat": 4,
 "nbformat_minor": 0
}
