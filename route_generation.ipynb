{
 "cells": [
  {
   "cell_type": "code",
   "execution_count": 11,
   "metadata": {},
   "outputs": [],
   "source": [
    "import pandas as pd\n",
    "from route_generation import *"
   ]
  },
  {
   "cell_type": "code",
   "execution_count": 12,
   "metadata": {},
   "outputs": [
    {
     "data": {
      "text/html": [
       "<div>\n",
       "<style scoped>\n",
       "    .dataframe tbody tr th:only-of-type {\n",
       "        vertical-align: middle;\n",
       "    }\n",
       "\n",
       "    .dataframe tbody tr th {\n",
       "        vertical-align: top;\n",
       "    }\n",
       "\n",
       "    .dataframe thead th {\n",
       "        text-align: right;\n",
       "    }\n",
       "</style>\n",
       "<table border=\"1\" class=\"dataframe\">\n",
       "  <thead>\n",
       "    <tr style=\"text-align: right;\">\n",
       "      <th></th>\n",
       "      <th>Brand</th>\n",
       "      <th>Location</th>\n",
       "      <th>Weekdays</th>\n",
       "      <th>Saturday</th>\n",
       "    </tr>\n",
       "  </thead>\n",
       "  <tbody>\n",
       "    <tr>\n",
       "      <th>0</th>\n",
       "      <td>Four Square</td>\n",
       "      <td>Alberton</td>\n",
       "      <td>3</td>\n",
       "      <td>1</td>\n",
       "    </tr>\n",
       "    <tr>\n",
       "      <th>1</th>\n",
       "      <td>Four Square</td>\n",
       "      <td>Botany Junction</td>\n",
       "      <td>2</td>\n",
       "      <td>0</td>\n",
       "    </tr>\n",
       "    <tr>\n",
       "      <th>2</th>\n",
       "      <td>Four Square</td>\n",
       "      <td>Cockle Bay</td>\n",
       "      <td>2</td>\n",
       "      <td>1</td>\n",
       "    </tr>\n",
       "    <tr>\n",
       "      <th>3</th>\n",
       "      <td>Four Square</td>\n",
       "      <td>Ellerslie</td>\n",
       "      <td>2</td>\n",
       "      <td>1</td>\n",
       "    </tr>\n",
       "    <tr>\n",
       "      <th>4</th>\n",
       "      <td>Four Square</td>\n",
       "      <td>Everglade</td>\n",
       "      <td>2</td>\n",
       "      <td>1</td>\n",
       "    </tr>\n",
       "  </tbody>\n",
       "</table>\n",
       "</div>"
      ],
      "text/plain": [
       "         Brand         Location  Weekdays  Saturday\n",
       "0  Four Square         Alberton         3         1\n",
       "1  Four Square  Botany Junction         2         0\n",
       "2  Four Square       Cockle Bay         2         1\n",
       "3  Four Square        Ellerslie         2         1\n",
       "4  Four Square        Everglade         2         1"
      ]
     },
     "execution_count": 12,
     "metadata": {},
     "output_type": "execute_result"
    }
   ],
   "source": [
    "Demands = pd.read_table('store_demand.txt', delimiter = ',')\n",
    "\n",
    "Demands.head()"
   ]
  },
  {
   "cell_type": "code",
   "execution_count": 13,
   "metadata": {},
   "outputs": [
    {
     "data": {
      "text/html": [
       "<div>\n",
       "<style scoped>\n",
       "    .dataframe tbody tr th:only-of-type {\n",
       "        vertical-align: middle;\n",
       "    }\n",
       "\n",
       "    .dataframe tbody tr th {\n",
       "        vertical-align: top;\n",
       "    }\n",
       "\n",
       "    .dataframe thead th {\n",
       "        text-align: right;\n",
       "    }\n",
       "</style>\n",
       "<table border=\"1\" class=\"dataframe\">\n",
       "  <thead>\n",
       "    <tr style=\"text-align: right;\">\n",
       "      <th></th>\n",
       "      <th>Brand</th>\n",
       "      <th>Location</th>\n",
       "      <th>Weekdays</th>\n",
       "      <th>Saturday</th>\n",
       "      <th>Supermarket</th>\n",
       "    </tr>\n",
       "  </thead>\n",
       "  <tbody>\n",
       "    <tr>\n",
       "      <th>0</th>\n",
       "      <td>Four Square</td>\n",
       "      <td>Alberton</td>\n",
       "      <td>3</td>\n",
       "      <td>1</td>\n",
       "      <td>Four Square Alberton</td>\n",
       "    </tr>\n",
       "    <tr>\n",
       "      <th>1</th>\n",
       "      <td>Four Square</td>\n",
       "      <td>Botany Junction</td>\n",
       "      <td>2</td>\n",
       "      <td>0</td>\n",
       "      <td>Four Square Botany Junction</td>\n",
       "    </tr>\n",
       "    <tr>\n",
       "      <th>2</th>\n",
       "      <td>Four Square</td>\n",
       "      <td>Cockle Bay</td>\n",
       "      <td>2</td>\n",
       "      <td>1</td>\n",
       "      <td>Four Square Cockle Bay</td>\n",
       "    </tr>\n",
       "    <tr>\n",
       "      <th>3</th>\n",
       "      <td>Four Square</td>\n",
       "      <td>Ellerslie</td>\n",
       "      <td>2</td>\n",
       "      <td>1</td>\n",
       "      <td>Four Square Ellerslie</td>\n",
       "    </tr>\n",
       "    <tr>\n",
       "      <th>4</th>\n",
       "      <td>Four Square</td>\n",
       "      <td>Everglade</td>\n",
       "      <td>2</td>\n",
       "      <td>1</td>\n",
       "      <td>Four Square Everglade</td>\n",
       "    </tr>\n",
       "  </tbody>\n",
       "</table>\n",
       "</div>"
      ],
      "text/plain": [
       "         Brand         Location  Weekdays  Saturday  \\\n",
       "0  Four Square         Alberton         3         1   \n",
       "1  Four Square  Botany Junction         2         0   \n",
       "2  Four Square       Cockle Bay         2         1   \n",
       "3  Four Square        Ellerslie         2         1   \n",
       "4  Four Square        Everglade         2         1   \n",
       "\n",
       "                   Supermarket  \n",
       "0         Four Square Alberton  \n",
       "1  Four Square Botany Junction  \n",
       "2       Four Square Cockle Bay  \n",
       "3        Four Square Ellerslie  \n",
       "4        Four Square Everglade  "
      ]
     },
     "execution_count": 13,
     "metadata": {},
     "output_type": "execute_result"
    }
   ],
   "source": [
    "Demands = Demands.assign(Supermarket = Demands.Brand + \" \" + Demands.Location)\n",
    "Demands.head()"
   ]
  },
  {
   "cell_type": "code",
   "execution_count": 14,
   "metadata": {
    "collapsed": false,
    "pycharm": {
     "name": "#%%\n"
    }
   },
   "outputs": [
    {
     "data": {
      "text/html": [
       "<div>\n",
       "<style scoped>\n",
       "    .dataframe tbody tr th:only-of-type {\n",
       "        vertical-align: middle;\n",
       "    }\n",
       "\n",
       "    .dataframe tbody tr th {\n",
       "        vertical-align: top;\n",
       "    }\n",
       "\n",
       "    .dataframe thead th {\n",
       "        text-align: right;\n",
       "    }\n",
       "</style>\n",
       "<table border=\"1\" class=\"dataframe\">\n",
       "  <thead>\n",
       "    <tr style=\"text-align: right;\">\n",
       "      <th></th>\n",
       "      <th>From</th>\n",
       "      <th>To</th>\n",
       "      <th>Distance</th>\n",
       "      <th>Duration</th>\n",
       "    </tr>\n",
       "  </thead>\n",
       "  <tbody>\n",
       "    <tr>\n",
       "      <th>0</th>\n",
       "      <td>New World Albany</td>\n",
       "      <td>New World Albany</td>\n",
       "      <td>0.00000</td>\n",
       "      <td>0.000000</td>\n",
       "    </tr>\n",
       "    <tr>\n",
       "      <th>1</th>\n",
       "      <td>New World Albany</td>\n",
       "      <td>New World Birkenhead</td>\n",
       "      <td>15.70707</td>\n",
       "      <td>23.833833</td>\n",
       "    </tr>\n",
       "    <tr>\n",
       "      <th>2</th>\n",
       "      <td>New World Albany</td>\n",
       "      <td>New World Botany</td>\n",
       "      <td>35.83163</td>\n",
       "      <td>49.946667</td>\n",
       "    </tr>\n",
       "    <tr>\n",
       "      <th>3</th>\n",
       "      <td>New World Albany</td>\n",
       "      <td>New World Browns Bay</td>\n",
       "      <td>5.00226</td>\n",
       "      <td>10.337833</td>\n",
       "    </tr>\n",
       "    <tr>\n",
       "      <th>4</th>\n",
       "      <td>New World Albany</td>\n",
       "      <td>New World Devonport</td>\n",
       "      <td>17.81659</td>\n",
       "      <td>29.654833</td>\n",
       "    </tr>\n",
       "  </tbody>\n",
       "</table>\n",
       "</div>"
      ],
      "text/plain": [
       "               From                    To  Distance   Duration\n",
       "0  New World Albany      New World Albany   0.00000   0.000000\n",
       "1  New World Albany  New World Birkenhead  15.70707  23.833833\n",
       "2  New World Albany      New World Botany  35.83163  49.946667\n",
       "3  New World Albany  New World Browns Bay   5.00226  10.337833\n",
       "4  New World Albany   New World Devonport  17.81659  29.654833"
      ]
     },
     "execution_count": 14,
     "metadata": {},
     "output_type": "execute_result"
    }
   ],
   "source": [
    "Durations = pd.read_csv(\"TravelCosts.csv\")\n",
    "Durations.head()"
   ]
  },
  {
   "cell_type": "code",
   "execution_count": 15,
   "metadata": {},
   "outputs": [
    {
     "name": "stdout",
     "output_type": "stream",
     "text": [
      "298\n"
     ]
    }
   ],
   "source": [
    "nodes = Demands.Supermarket.values.tolist()\n",
    "\n",
    "saturday_routes = generate_routes(nodes, Demands, Durations, weekday=False)\n",
    "print(len(saturday_routes))"
   ]
  },
  {
   "cell_type": "code",
   "execution_count": 16,
   "metadata": {},
   "outputs": [
    {
     "name": "stdout",
     "output_type": "stream",
     "text": [
      "172\n"
     ]
    }
   ],
   "source": [
    "weekday_routes = generate_routes(nodes, Demands, Durations)\n",
    "print(len(weekday_routes))"
   ]
  },
  {
   "cell_type": "code",
   "execution_count": 17,
   "metadata": {},
   "outputs": [
    {
     "name": "stdout",
     "output_type": "stream",
     "text": [
      "200\n",
      "129\n"
     ]
    }
   ],
   "source": [
    "saturday_routes = remove_duplicate_routes(saturday_routes)\n",
    "weekday_routes = remove_duplicate_routes(weekday_routes)\n",
    "\n",
    "print(len(saturday_routes))\n",
    "print(len(weekday_routes))"
   ]
  },
  {
   "cell_type": "code",
   "execution_count": 18,
   "metadata": {},
   "outputs": [],
   "source": [
    "with open(\"saturday_routes.txt\", \"w\") as f:\n",
    "    for route in saturday_routes:\n",
    "        f.write(\",\".join(route[0]))\n",
    "        f.write(\":\")\n",
    "        f.write(str(route[1]))\n",
    "        f.write(\"\\n\")\n",
    "\n",
    "with open(\"weekday_routes.txt\", \"w\") as f:\n",
    "    for route in weekday_routes:\n",
    "        f.write(\",\".join(route[0]))\n",
    "        f.write(\":\")\n",
    "        f.write(str(route[1]))\n",
    "        f.write(\"\\n\")"
   ]
  },
  {
   "cell_type": "code",
   "execution_count": 19,
   "metadata": {},
   "outputs": [
    {
     "name": "stdout",
     "output_type": "stream",
     "text": [
      "[(['Warehouse', 'Four Square Fair Price Henderson', \"Pak 'n Save Lincoln Road\", \"Pak 'n Save Henderson\", 'Four Square Glen Eden', 'New World New Lynn', \"Pak 'n Save Mt Albert\", 'Warehouse'], 234.11999999999986), (['Warehouse', \"Pak 'n Save Sylvia Park\", 'Four Square Ellerslie', 'Warehouse'], 143.2912500000001), (['Warehouse', 'New World Metro Queen St', 'New World Victoria Park', 'Four Square Alberton', 'Warehouse'], 149.66499999999994), (['Warehouse', 'New World Howick', 'Four Square Cockle Bay', \"Pak 'n Save Botany\", 'New World Botany', 'Four Square Botany Junction', 'New World Ormiston', 'Warehouse'], 302.4925000000002), (['Warehouse', 'Four Square Torbay', 'New World Long Bay', 'Warehouse'], 246.77583333333322), (['Warehouse', 'New World Papatoetoe', \"Pak 'n Save Manukau\", 'Four Square Botany Junction', 'Four Square Everglade', 'New World Southmall', \"Pak 'n Save Clendon\", 'Warehouse'], 268.6758333333333), (['Warehouse', 'Four Square Cockle Bay', 'Warehouse'], 229.52958333333328), (['Warehouse', 'Four Square Everglade', \"Pak 'n Save Manukau\", 'New World Papatoetoe', 'Warehouse'], 178.02333333333337), (['Warehouse', 'Four Square Glen Eden', 'New World New Lynn', \"Pak 'n Save Mt Albert\", 'Warehouse'], 142.14458333333334), (['Warehouse', 'New World Howick', 'Four Square Cockle Bay', \"Pak 'n Save Botany\", 'New World Botany', 'Warehouse'], 265.6162500000002)]\n",
      "[(['Warehouse', \"Pak 'n Save Clendon\", 'New World Southmall', 'Warehouse'], 175.91083333333341), (['Warehouse', \"Pak 'n Save Clendon\", 'New World Southmall', 'Four Square Everglade', \"Pak 'n Save Manukau\", 'Warehouse'], 218.90833333333342), (['Warehouse', \"Pak 'n Save Sylvia Park\", 'Warehouse'], 145.13416666666674), (['Warehouse', 'Four Square Everglade', \"Pak 'n Save Manukau\", 'Warehouse'], 159.16916666666665), (['Warehouse', 'New World Metro Shore City', 'Warehouse'], 150.7866666666665), (['Warehouse', 'Four Square St Heliers', \"Pak 'n Save Glen Innes\", 'New World Eastridge', 'Warehouse'], 225.3137500000001), (['Warehouse', 'Four Square Torbay', 'New World Long Bay', 'Warehouse'], 246.77583333333322), (['Warehouse', 'Four Square Hobsonville', 'Warehouse'], 137.95375), (['Warehouse', 'New World Metro Shore City', 'New World Milford', 'Warehouse'], 183.27124999999998), (['Warehouse', \"Pak 'n Save Clendon\", 'New World Southmall', 'Four Square Everglade', 'Warehouse'], 197.11791666666673)]\n"
     ]
    }
   ],
   "source": [
    "import random\n",
    "\n",
    "print(random.sample(saturday_routes, 10))\n",
    "print(random.sample(weekday_routes, 10))"
   ]
  }
 ],
 "metadata": {
  "kernelspec": {
   "display_name": "Python 3.10.5 64-bit",
   "language": "python",
   "name": "python3"
  },
  "language_info": {
   "codemirror_mode": {
    "name": "ipython",
    "version": 3
   },
   "file_extension": ".py",
   "mimetype": "text/x-python",
   "name": "python",
   "nbconvert_exporter": "python",
   "pygments_lexer": "ipython3",
   "version": "3.10.5"
  },
  "vscode": {
   "interpreter": {
    "hash": "369f2c481f4da34e4445cda3fffd2e751bd1c4d706f27375911949ba6bb62e1c"
   }
  }
 },
 "nbformat": 4,
 "nbformat_minor": 0
}
