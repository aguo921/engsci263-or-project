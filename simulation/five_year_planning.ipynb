{
 "cells": [
  {
   "cell_type": "code",
   "execution_count": 1,
   "metadata": {},
   "outputs": [],
   "source": [
    "from simulate_costs import *\n",
    "from bootstrap_demand import *\n",
    "\n",
    "import pandas as pd\n",
    "import seaborn as sns\n",
    "import statsmodels.stats.weightstats as sms"
   ]
  },
  {
   "cell_type": "code",
   "execution_count": 2,
   "metadata": {},
   "outputs": [
    {
     "data": {
      "text/html": [
       "<div>\n",
       "<style scoped>\n",
       "    .dataframe tbody tr th:only-of-type {\n",
       "        vertical-align: middle;\n",
       "    }\n",
       "\n",
       "    .dataframe tbody tr th {\n",
       "        vertical-align: top;\n",
       "    }\n",
       "\n",
       "    .dataframe thead th {\n",
       "        text-align: right;\n",
       "    }\n",
       "</style>\n",
       "<table border=\"1\" class=\"dataframe\">\n",
       "  <thead>\n",
       "    <tr style=\"text-align: right;\">\n",
       "      <th></th>\n",
       "      <th>Supermarket</th>\n",
       "      <th>Date</th>\n",
       "      <th>Demand</th>\n",
       "      <th>Weekday</th>\n",
       "      <th>DayType</th>\n",
       "    </tr>\n",
       "  </thead>\n",
       "  <tbody>\n",
       "    <tr>\n",
       "      <th>0</th>\n",
       "      <td>Four Square Alberton</td>\n",
       "      <td>2022-07-04</td>\n",
       "      <td>1</td>\n",
       "      <td>0</td>\n",
       "      <td>Weekdays</td>\n",
       "    </tr>\n",
       "    <tr>\n",
       "      <th>1</th>\n",
       "      <td>Four Square Botany Junction</td>\n",
       "      <td>2022-07-04</td>\n",
       "      <td>1</td>\n",
       "      <td>0</td>\n",
       "      <td>Weekdays</td>\n",
       "    </tr>\n",
       "    <tr>\n",
       "      <th>2</th>\n",
       "      <td>Four Square Cockle Bay</td>\n",
       "      <td>2022-07-04</td>\n",
       "      <td>3</td>\n",
       "      <td>0</td>\n",
       "      <td>Weekdays</td>\n",
       "    </tr>\n",
       "    <tr>\n",
       "      <th>3</th>\n",
       "      <td>Four Square Ellerslie</td>\n",
       "      <td>2022-07-04</td>\n",
       "      <td>2</td>\n",
       "      <td>0</td>\n",
       "      <td>Weekdays</td>\n",
       "    </tr>\n",
       "    <tr>\n",
       "      <th>4</th>\n",
       "      <td>Four Square Everglade</td>\n",
       "      <td>2022-07-04</td>\n",
       "      <td>2</td>\n",
       "      <td>0</td>\n",
       "      <td>Weekdays</td>\n",
       "    </tr>\n",
       "  </tbody>\n",
       "</table>\n",
       "</div>"
      ],
      "text/plain": [
       "                   Supermarket       Date  Demand  Weekday   DayType\n",
       "0         Four Square Alberton 2022-07-04       1        0  Weekdays\n",
       "1  Four Square Botany Junction 2022-07-04       1        0  Weekdays\n",
       "2       Four Square Cockle Bay 2022-07-04       3        0  Weekdays\n",
       "3        Four Square Ellerslie 2022-07-04       2        0  Weekdays\n",
       "4        Four Square Everglade 2022-07-04       2        0  Weekdays"
      ]
     },
     "execution_count": 2,
     "metadata": {},
     "output_type": "execute_result"
    }
   ],
   "source": [
    "demands = pd.read_csv(\"../foodstuffs-data/FoodstuffsDemands.csv\")\n",
    "stores = demands.Supermarket.values.tolist()\n",
    "demands = transform_demand(demands)\n",
    "demands.head()"
   ]
  },
  {
   "cell_type": "code",
   "execution_count": 3,
   "metadata": {},
   "outputs": [
    {
     "data": {
      "text/html": [
       "<div>\n",
       "<style scoped>\n",
       "    .dataframe tbody tr th:only-of-type {\n",
       "        vertical-align: middle;\n",
       "    }\n",
       "\n",
       "    .dataframe tbody tr th {\n",
       "        vertical-align: top;\n",
       "    }\n",
       "\n",
       "    .dataframe thead th {\n",
       "        text-align: right;\n",
       "    }\n",
       "</style>\n",
       "<table border=\"1\" class=\"dataframe\">\n",
       "  <thead>\n",
       "    <tr style=\"text-align: right;\">\n",
       "      <th></th>\n",
       "      <th></th>\n",
       "      <th>Distance</th>\n",
       "      <th>Duration</th>\n",
       "    </tr>\n",
       "    <tr>\n",
       "      <th>From</th>\n",
       "      <th>To</th>\n",
       "      <th></th>\n",
       "      <th></th>\n",
       "    </tr>\n",
       "  </thead>\n",
       "  <tbody>\n",
       "    <tr>\n",
       "      <th rowspan=\"5\" valign=\"top\">New World Albany</th>\n",
       "      <th>New World Albany</th>\n",
       "      <td>0.00000</td>\n",
       "      <td>0.000000</td>\n",
       "    </tr>\n",
       "    <tr>\n",
       "      <th>New World Birkenhead</th>\n",
       "      <td>15.70707</td>\n",
       "      <td>23.833833</td>\n",
       "    </tr>\n",
       "    <tr>\n",
       "      <th>New World Botany</th>\n",
       "      <td>35.83163</td>\n",
       "      <td>49.946667</td>\n",
       "    </tr>\n",
       "    <tr>\n",
       "      <th>New World Browns Bay</th>\n",
       "      <td>5.00226</td>\n",
       "      <td>10.337833</td>\n",
       "    </tr>\n",
       "    <tr>\n",
       "      <th>New World Devonport</th>\n",
       "      <td>17.81659</td>\n",
       "      <td>29.654833</td>\n",
       "    </tr>\n",
       "  </tbody>\n",
       "</table>\n",
       "</div>"
      ],
      "text/plain": [
       "                                       Distance   Duration\n",
       "From             To                                       \n",
       "New World Albany New World Albany       0.00000   0.000000\n",
       "                 New World Birkenhead  15.70707  23.833833\n",
       "                 New World Botany      35.83163  49.946667\n",
       "                 New World Browns Bay   5.00226  10.337833\n",
       "                 New World Devonport   17.81659  29.654833"
      ]
     },
     "execution_count": 3,
     "metadata": {},
     "output_type": "execute_result"
    }
   ],
   "source": [
    "durations = pd \\\n",
    "    .read_csv(\"../route-generation/output/TravelCosts.csv\") \\\n",
    "    .set_index([\"From\", \"To\"])\n",
    "durations.head()"
   ]
  },
  {
   "cell_type": "code",
   "execution_count": 4,
   "metadata": {},
   "outputs": [
    {
     "data": {
      "text/html": [
       "<div>\n",
       "<style scoped>\n",
       "    .dataframe tbody tr th:only-of-type {\n",
       "        vertical-align: middle;\n",
       "    }\n",
       "\n",
       "    .dataframe tbody tr th {\n",
       "        vertical-align: top;\n",
       "    }\n",
       "\n",
       "    .dataframe thead th {\n",
       "        text-align: right;\n",
       "    }\n",
       "</style>\n",
       "<table border=\"1\" class=\"dataframe\">\n",
       "  <thead>\n",
       "    <tr style=\"text-align: right;\">\n",
       "      <th></th>\n",
       "      <th>Route</th>\n",
       "      <th>TruckType</th>\n",
       "      <th>RouteCost</th>\n",
       "    </tr>\n",
       "  </thead>\n",
       "  <tbody>\n",
       "    <tr>\n",
       "      <th>0</th>\n",
       "      <td>['Warehouse', 'New World Papakura', \"Pak 'n Sa...</td>\n",
       "      <td>OwnedTruck</td>\n",
       "      <td>294.5460</td>\n",
       "    </tr>\n",
       "    <tr>\n",
       "      <th>1</th>\n",
       "      <td>['Warehouse', 'New World Mt Roskill', 'New Wor...</td>\n",
       "      <td>OwnedTruck</td>\n",
       "      <td>192.6705</td>\n",
       "    </tr>\n",
       "    <tr>\n",
       "      <th>2</th>\n",
       "      <td>['Warehouse', \"Pak 'n Save Wairau Road\", 'New ...</td>\n",
       "      <td>OwnedTruck</td>\n",
       "      <td>332.3620</td>\n",
       "    </tr>\n",
       "    <tr>\n",
       "      <th>3</th>\n",
       "      <td>['Warehouse', 'New World Birkenhead', 'Four Sq...</td>\n",
       "      <td>OwnedTruck</td>\n",
       "      <td>432.4040</td>\n",
       "    </tr>\n",
       "    <tr>\n",
       "      <th>4</th>\n",
       "      <td>['Warehouse', 'Four Square Alberton', 'New Wor...</td>\n",
       "      <td>OwnedTruck</td>\n",
       "      <td>260.3805</td>\n",
       "    </tr>\n",
       "  </tbody>\n",
       "</table>\n",
       "</div>"
      ],
      "text/plain": [
       "                                               Route   TruckType  RouteCost\n",
       "0  ['Warehouse', 'New World Papakura', \"Pak 'n Sa...  OwnedTruck   294.5460\n",
       "1  ['Warehouse', 'New World Mt Roskill', 'New Wor...  OwnedTruck   192.6705\n",
       "2  ['Warehouse', \"Pak 'n Save Wairau Road\", 'New ...  OwnedTruck   332.3620\n",
       "3  ['Warehouse', 'New World Birkenhead', 'Four Sq...  OwnedTruck   432.4040\n",
       "4  ['Warehouse', 'Four Square Alberton', 'New Wor...  OwnedTruck   260.3805"
      ]
     },
     "execution_count": 4,
     "metadata": {},
     "output_type": "execute_result"
    }
   ],
   "source": [
    "selected_saturday = pd \\\n",
    "    .read_csv(\"../linear-program/output/selectedRoutesSaturday.csv\") \\\n",
    "    .drop(columns=[\"RouteNum\"])\n",
    "selected_saturday.head()"
   ]
  },
  {
   "cell_type": "code",
   "execution_count": 5,
   "metadata": {},
   "outputs": [
    {
     "data": {
      "text/html": [
       "<div>\n",
       "<style scoped>\n",
       "    .dataframe tbody tr th:only-of-type {\n",
       "        vertical-align: middle;\n",
       "    }\n",
       "\n",
       "    .dataframe tbody tr th {\n",
       "        vertical-align: top;\n",
       "    }\n",
       "\n",
       "    .dataframe thead th {\n",
       "        text-align: right;\n",
       "    }\n",
       "</style>\n",
       "<table border=\"1\" class=\"dataframe\">\n",
       "  <thead>\n",
       "    <tr style=\"text-align: right;\">\n",
       "      <th></th>\n",
       "      <th>Route</th>\n",
       "      <th>TruckType</th>\n",
       "      <th>RouteCost</th>\n",
       "    </tr>\n",
       "  </thead>\n",
       "  <tbody>\n",
       "    <tr>\n",
       "      <th>0</th>\n",
       "      <td>['Warehouse', 'Four Square Glen Eden', \"Pak 'n...</td>\n",
       "      <td>OwnedTruck</td>\n",
       "      <td>317.127667</td>\n",
       "    </tr>\n",
       "    <tr>\n",
       "      <th>1</th>\n",
       "      <td>['Warehouse', \"Pak 'n Save Lincoln Road\", 'War...</td>\n",
       "      <td>OwnedTruck</td>\n",
       "      <td>104.192500</td>\n",
       "    </tr>\n",
       "    <tr>\n",
       "      <th>2</th>\n",
       "      <td>['Warehouse', \"Pak 'n Save Westgate\", 'Warehou...</td>\n",
       "      <td>OwnedTruck</td>\n",
       "      <td>118.685417</td>\n",
       "    </tr>\n",
       "    <tr>\n",
       "      <th>3</th>\n",
       "      <td>['Warehouse', 'Four Square Everglade', 'New Wo...</td>\n",
       "      <td>OwnedTruck</td>\n",
       "      <td>271.918833</td>\n",
       "    </tr>\n",
       "    <tr>\n",
       "      <th>4</th>\n",
       "      <td>['Warehouse', 'Four Square Botany Junction', '...</td>\n",
       "      <td>OwnedTruck</td>\n",
       "      <td>380.003333</td>\n",
       "    </tr>\n",
       "  </tbody>\n",
       "</table>\n",
       "</div>"
      ],
      "text/plain": [
       "                                               Route   TruckType   RouteCost\n",
       "0  ['Warehouse', 'Four Square Glen Eden', \"Pak 'n...  OwnedTruck  317.127667\n",
       "1  ['Warehouse', \"Pak 'n Save Lincoln Road\", 'War...  OwnedTruck  104.192500\n",
       "2  ['Warehouse', \"Pak 'n Save Westgate\", 'Warehou...  OwnedTruck  118.685417\n",
       "3  ['Warehouse', 'Four Square Everglade', 'New Wo...  OwnedTruck  271.918833\n",
       "4  ['Warehouse', 'Four Square Botany Junction', '...  OwnedTruck  380.003333"
      ]
     },
     "execution_count": 5,
     "metadata": {},
     "output_type": "execute_result"
    }
   ],
   "source": [
    "selected_weekday = pd \\\n",
    "    .read_csv(\"../linear-program/output/selectedRoutesWeekday.csv\") \\\n",
    "    .drop(columns=[\"RouteNum\"])\n",
    "selected_weekday.head()"
   ]
  },
  {
   "cell_type": "code",
   "execution_count": 6,
   "metadata": {},
   "outputs": [],
   "source": [
    "def calculate_total_cost(saturday_demands, weekday_demands, extra_trucks=0):\n",
    "    trucks = 12 + extra_trucks\n",
    "    saturday_runs = simulate_runs(\n",
    "        selected_saturday, saturday_demands, durations, \"Saturday\", trucks=trucks\n",
    "    )\n",
    "    \n",
    "    weekday_runs = simulate_runs(\n",
    "        selected_weekday, weekday_demands, durations, \"Weekdays\", trucks=trucks\n",
    "    )\n",
    "    \n",
    "    return sum(saturday_runs.Cost) + sum(weekday_runs.Cost) + extra_trucks*200000\n"
   ]
  },
  {
   "cell_type": "code",
   "execution_count": 20,
   "metadata": {},
   "outputs": [
    {
     "name": "stdout",
     "output_type": "stream",
     "text": [
      "Run 1\n",
      "Run 2\n",
      "Run 3\n",
      "Run 4\n",
      "Run 5\n",
      "Run 6\n",
      "Run 7\n",
      "Run 8\n",
      "Run 9\n",
      "Run 10\n",
      "Run 11\n",
      "Run 12\n",
      "Run 13\n",
      "Run 14\n",
      "Run 15\n",
      "Run 16\n",
      "Run 17\n",
      "Run 18\n",
      "Run 19\n",
      "Run 20\n",
      "Run 21\n",
      "Run 22\n",
      "Run 23\n",
      "Run 24\n",
      "Run 25\n",
      "Run 26\n",
      "Run 27\n",
      "Run 28\n",
      "Run 29\n",
      "Run 30\n"
     ]
    }
   ],
   "source": [
    "runs = 30\n",
    "normal_costs = []\n",
    "extra_costs = []\n",
    "\n",
    "for i in range(runs):\n",
    "    print(f\"Run {i+1}\")\n",
    "    saturday_demands = bootstrap_demand(260, stores, demands, \"Saturday\")\n",
    "    weekday_demands = bootstrap_demand(1300, stores, demands, \"Weekdays\")\n",
    "    \n",
    "    normal_costs.append(calculate_total_cost(saturday_demands, weekday_demands))\n",
    "    extra_costs.append(calculate_total_cost(saturday_demands, weekday_demands, extra_trucks=1))"
   ]
  },
  {
   "cell_type": "code",
   "execution_count": 21,
   "metadata": {},
   "outputs": [
    {
     "name": "stdout",
     "output_type": "stream",
     "text": [
      "Mean Cost without Extra Trucks: $7419963.69\n",
      "Mean Cost with One Extra Truck: $7455451.58\n"
     ]
    }
   ],
   "source": [
    "print(f\"Mean Cost without Extra Trucks: ${round(np.mean(normal_costs), 2)}\")\n",
    "print(f\"Mean Cost with One Extra Truck: ${round(np.mean(extra_costs), 2)}\")"
   ]
  },
  {
   "cell_type": "code",
   "execution_count": 22,
   "metadata": {},
   "outputs": [
    {
     "data": {
      "text/html": [
       "<div>\n",
       "<style scoped>\n",
       "    .dataframe tbody tr th:only-of-type {\n",
       "        vertical-align: middle;\n",
       "    }\n",
       "\n",
       "    .dataframe tbody tr th {\n",
       "        vertical-align: top;\n",
       "    }\n",
       "\n",
       "    .dataframe thead th {\n",
       "        text-align: right;\n",
       "    }\n",
       "</style>\n",
       "<table border=\"1\" class=\"dataframe\">\n",
       "  <thead>\n",
       "    <tr style=\"text-align: right;\">\n",
       "      <th></th>\n",
       "      <th>Normal</th>\n",
       "      <th>OneExtraTruck</th>\n",
       "    </tr>\n",
       "  </thead>\n",
       "  <tbody>\n",
       "    <tr>\n",
       "      <th>0</th>\n",
       "      <td>7.403038e+06</td>\n",
       "      <td>7.455915e+06</td>\n",
       "    </tr>\n",
       "    <tr>\n",
       "      <th>1</th>\n",
       "      <td>7.457394e+06</td>\n",
       "      <td>7.457926e+06</td>\n",
       "    </tr>\n",
       "    <tr>\n",
       "      <th>2</th>\n",
       "      <td>7.446745e+06</td>\n",
       "      <td>7.463130e+06</td>\n",
       "    </tr>\n",
       "    <tr>\n",
       "      <th>3</th>\n",
       "      <td>7.465433e+06</td>\n",
       "      <td>7.457951e+06</td>\n",
       "    </tr>\n",
       "    <tr>\n",
       "      <th>4</th>\n",
       "      <td>7.433749e+06</td>\n",
       "      <td>7.460550e+06</td>\n",
       "    </tr>\n",
       "  </tbody>\n",
       "</table>\n",
       "</div>"
      ],
      "text/plain": [
       "         Normal  OneExtraTruck\n",
       "0  7.403038e+06   7.455915e+06\n",
       "1  7.457394e+06   7.457926e+06\n",
       "2  7.446745e+06   7.463130e+06\n",
       "3  7.465433e+06   7.457951e+06\n",
       "4  7.433749e+06   7.460550e+06"
      ]
     },
     "execution_count": 22,
     "metadata": {},
     "output_type": "execute_result"
    }
   ],
   "source": [
    "costs = pd.DataFrame({\n",
    "    \"Normal\": normal_costs,\n",
    "    \"OneExtraTruck\": extra_costs\n",
    "})\n",
    "\n",
    "costs.head()"
   ]
  },
  {
   "cell_type": "code",
   "execution_count": 23,
   "metadata": {},
   "outputs": [
    {
     "data": {
      "text/plain": [
       "<AxesSubplot: xlabel='Simulation', ylabel='Cost'>"
      ]
     },
     "execution_count": 23,
     "metadata": {},
     "output_type": "execute_result"
    },
    {
     "data": {
      "image/png": "[encoded data removed]",
      "text/plain": [
       "<Figure size 640x480 with 1 Axes>"
      ]
     },
     "metadata": {},
     "output_type": "display_data"
    }
   ],
   "source": [
    "pivoted_costs = costs.melt(var_name=\"Simulation\", value_name=\"Cost\")\n",
    "sns.boxplot(x=\"Simulation\", y=\"Cost\", data=pivoted_costs)\n",
    "sns.stripplot(x=\"Simulation\", y=\"Cost\", data=pivoted_costs, color=\".5\")"
   ]
  },
  {
   "cell_type": "code",
   "execution_count": 24,
   "metadata": {},
   "outputs": [
    {
     "name": "stdout",
     "output_type": "stream",
     "text": [
      "(-6.209279813172945, 6.142227837021353e-08, 58.0)\n",
      "(-46928.31266747434, -24047.480893632208)\n"
     ]
    }
   ],
   "source": [
    "TwoSample = sms.CompareMeans(sms.DescrStatsW(costs.Normal), sms.DescrStatsW(costs.OneExtraTruck))\n",
    "print(TwoSample.ttest_ind())\n",
    "print(TwoSample.tconfint_diff())"
   ]
  }
 ],
 "metadata": {
  "kernelspec": {
   "display_name": "Python 3.10.5 ('env': venv)",
   "language": "python",
   "name": "python3"
  },
  "language_info": {
   "codemirror_mode": {
    "name": "ipython",
    "version": 3
   },
   "file_extension": ".py",
   "mimetype": "text/x-python",
   "name": "python",
   "nbconvert_exporter": "python",
   "pygments_lexer": "ipython3",
   "version": "3.10.5"
  },
  "orig_nbformat": 4,
  "vscode": {
   "interpreter": {
    "hash": "b9802198530425692927ed4d19a712402a29f50beecaed8989c38bdb6d569a2f"
   }
  }
 },
 "nbformat": 4,
 "nbformat_minor": 2
}
