{
 "cells": [
  {
   "cell_type": "code",
   "execution_count": 12,
   "metadata": {},
   "outputs": [],
   "source": [
    "from simulate_costs import *\n",
    "from bootstrap_demand import *\n",
    "\n",
    "import pandas as pd\n",
    "import seaborn as sns\n",
    "import statsmodels.stats.weightstats as sms\n",
    "import matplotlib.pyplot as plt\n",
    "from scipy import stats"
   ]
  },
  {
   "cell_type": "code",
   "execution_count": 13,
   "metadata": {},
   "outputs": [
    {
     "data": {
      "text/html": [
       "<div>\n",
       "<style scoped>\n",
       "    .dataframe tbody tr th:only-of-type {\n",
       "        vertical-align: middle;\n",
       "    }\n",
       "\n",
       "    .dataframe tbody tr th {\n",
       "        vertical-align: top;\n",
       "    }\n",
       "\n",
       "    .dataframe thead th {\n",
       "        text-align: right;\n",
       "    }\n",
       "</style>\n",
       "<table border=\"1\" class=\"dataframe\">\n",
       "  <thead>\n",
       "    <tr style=\"text-align: right;\">\n",
       "      <th></th>\n",
       "      <th>Supermarket</th>\n",
       "      <th>Date</th>\n",
       "      <th>Demand</th>\n",
       "      <th>Weekday</th>\n",
       "      <th>DayType</th>\n",
       "    </tr>\n",
       "  </thead>\n",
       "  <tbody>\n",
       "    <tr>\n",
       "      <th>0</th>\n",
       "      <td>Four Square Alberton</td>\n",
       "      <td>2022-07-04</td>\n",
       "      <td>1</td>\n",
       "      <td>0</td>\n",
       "      <td>Weekdays</td>\n",
       "    </tr>\n",
       "    <tr>\n",
       "      <th>1</th>\n",
       "      <td>Four Square Botany Junction</td>\n",
       "      <td>2022-07-04</td>\n",
       "      <td>1</td>\n",
       "      <td>0</td>\n",
       "      <td>Weekdays</td>\n",
       "    </tr>\n",
       "    <tr>\n",
       "      <th>2</th>\n",
       "      <td>Four Square Cockle Bay</td>\n",
       "      <td>2022-07-04</td>\n",
       "      <td>3</td>\n",
       "      <td>0</td>\n",
       "      <td>Weekdays</td>\n",
       "    </tr>\n",
       "    <tr>\n",
       "      <th>3</th>\n",
       "      <td>Four Square Ellerslie</td>\n",
       "      <td>2022-07-04</td>\n",
       "      <td>2</td>\n",
       "      <td>0</td>\n",
       "      <td>Weekdays</td>\n",
       "    </tr>\n",
       "    <tr>\n",
       "      <th>4</th>\n",
       "      <td>Four Square Everglade</td>\n",
       "      <td>2022-07-04</td>\n",
       "      <td>2</td>\n",
       "      <td>0</td>\n",
       "      <td>Weekdays</td>\n",
       "    </tr>\n",
       "  </tbody>\n",
       "</table>\n",
       "</div>"
      ],
      "text/plain": [
       "                   Supermarket       Date  Demand  Weekday   DayType\n",
       "0         Four Square Alberton 2022-07-04       1        0  Weekdays\n",
       "1  Four Square Botany Junction 2022-07-04       1        0  Weekdays\n",
       "2       Four Square Cockle Bay 2022-07-04       3        0  Weekdays\n",
       "3        Four Square Ellerslie 2022-07-04       2        0  Weekdays\n",
       "4        Four Square Everglade 2022-07-04       2        0  Weekdays"
      ]
     },
     "execution_count": 13,
     "metadata": {},
     "output_type": "execute_result"
    }
   ],
   "source": [
    "demands = pd.read_csv(\"../foodstuffs-data/FoodstuffsDemands.csv\")\n",
    "stores = demands.Supermarket.values.tolist()\n",
    "demands = transform_demand(demands)\n",
    "demands.head()"
   ]
  },
  {
   "cell_type": "code",
   "execution_count": 14,
   "metadata": {},
   "outputs": [
    {
     "data": {
      "text/html": [
       "<div>\n",
       "<style scoped>\n",
       "    .dataframe tbody tr th:only-of-type {\n",
       "        vertical-align: middle;\n",
       "    }\n",
       "\n",
       "    .dataframe tbody tr th {\n",
       "        vertical-align: top;\n",
       "    }\n",
       "\n",
       "    .dataframe thead th {\n",
       "        text-align: right;\n",
       "    }\n",
       "</style>\n",
       "<table border=\"1\" class=\"dataframe\">\n",
       "  <thead>\n",
       "    <tr style=\"text-align: right;\">\n",
       "      <th></th>\n",
       "      <th></th>\n",
       "      <th>Distance</th>\n",
       "      <th>Duration</th>\n",
       "    </tr>\n",
       "    <tr>\n",
       "      <th>From</th>\n",
       "      <th>To</th>\n",
       "      <th></th>\n",
       "      <th></th>\n",
       "    </tr>\n",
       "  </thead>\n",
       "  <tbody>\n",
       "    <tr>\n",
       "      <th rowspan=\"5\" valign=\"top\">New World Albany</th>\n",
       "      <th>New World Albany</th>\n",
       "      <td>0.00000</td>\n",
       "      <td>0.000000</td>\n",
       "    </tr>\n",
       "    <tr>\n",
       "      <th>New World Birkenhead</th>\n",
       "      <td>15.70707</td>\n",
       "      <td>23.833833</td>\n",
       "    </tr>\n",
       "    <tr>\n",
       "      <th>New World Botany</th>\n",
       "      <td>35.83163</td>\n",
       "      <td>49.946667</td>\n",
       "    </tr>\n",
       "    <tr>\n",
       "      <th>New World Browns Bay</th>\n",
       "      <td>5.00226</td>\n",
       "      <td>10.337833</td>\n",
       "    </tr>\n",
       "    <tr>\n",
       "      <th>New World Devonport</th>\n",
       "      <td>17.81659</td>\n",
       "      <td>29.654833</td>\n",
       "    </tr>\n",
       "  </tbody>\n",
       "</table>\n",
       "</div>"
      ],
      "text/plain": [
       "                                       Distance   Duration\n",
       "From             To                                       \n",
       "New World Albany New World Albany       0.00000   0.000000\n",
       "                 New World Birkenhead  15.70707  23.833833\n",
       "                 New World Botany      35.83163  49.946667\n",
       "                 New World Browns Bay   5.00226  10.337833\n",
       "                 New World Devonport   17.81659  29.654833"
      ]
     },
     "execution_count": 14,
     "metadata": {},
     "output_type": "execute_result"
    }
   ],
   "source": [
    "durations = pd \\\n",
    "    .read_csv(\"../route-generation/output/TravelCosts.csv\") \\\n",
    "    .set_index([\"From\", \"To\"])\n",
    "durations.head()"
   ]
  },
  {
   "cell_type": "code",
   "execution_count": 15,
   "metadata": {},
   "outputs": [
    {
     "data": {
      "text/html": [
       "<div>\n",
       "<style scoped>\n",
       "    .dataframe tbody tr th:only-of-type {\n",
       "        vertical-align: middle;\n",
       "    }\n",
       "\n",
       "    .dataframe tbody tr th {\n",
       "        vertical-align: top;\n",
       "    }\n",
       "\n",
       "    .dataframe thead th {\n",
       "        text-align: right;\n",
       "    }\n",
       "</style>\n",
       "<table border=\"1\" class=\"dataframe\">\n",
       "  <thead>\n",
       "    <tr style=\"text-align: right;\">\n",
       "      <th></th>\n",
       "      <th>Route</th>\n",
       "      <th>TruckType</th>\n",
       "      <th>RouteCost</th>\n",
       "    </tr>\n",
       "  </thead>\n",
       "  <tbody>\n",
       "    <tr>\n",
       "      <th>0</th>\n",
       "      <td>['Warehouse', 'New World Papakura', \"Pak 'n Sa...</td>\n",
       "      <td>OwnedTruck</td>\n",
       "      <td>294.5460</td>\n",
       "    </tr>\n",
       "    <tr>\n",
       "      <th>1</th>\n",
       "      <td>['Warehouse', 'New World Mt Roskill', 'New Wor...</td>\n",
       "      <td>OwnedTruck</td>\n",
       "      <td>192.6705</td>\n",
       "    </tr>\n",
       "    <tr>\n",
       "      <th>2</th>\n",
       "      <td>['Warehouse', \"Pak 'n Save Wairau Road\", 'New ...</td>\n",
       "      <td>OwnedTruck</td>\n",
       "      <td>332.3620</td>\n",
       "    </tr>\n",
       "    <tr>\n",
       "      <th>3</th>\n",
       "      <td>['Warehouse', 'New World Birkenhead', 'Four Sq...</td>\n",
       "      <td>OwnedTruck</td>\n",
       "      <td>432.4040</td>\n",
       "    </tr>\n",
       "    <tr>\n",
       "      <th>4</th>\n",
       "      <td>['Warehouse', 'Four Square Alberton', 'New Wor...</td>\n",
       "      <td>OwnedTruck</td>\n",
       "      <td>260.3805</td>\n",
       "    </tr>\n",
       "  </tbody>\n",
       "</table>\n",
       "</div>"
      ],
      "text/plain": [
       "                                               Route   TruckType  RouteCost\n",
       "0  ['Warehouse', 'New World Papakura', \"Pak 'n Sa...  OwnedTruck   294.5460\n",
       "1  ['Warehouse', 'New World Mt Roskill', 'New Wor...  OwnedTruck   192.6705\n",
       "2  ['Warehouse', \"Pak 'n Save Wairau Road\", 'New ...  OwnedTruck   332.3620\n",
       "3  ['Warehouse', 'New World Birkenhead', 'Four Sq...  OwnedTruck   432.4040\n",
       "4  ['Warehouse', 'Four Square Alberton', 'New Wor...  OwnedTruck   260.3805"
      ]
     },
     "execution_count": 15,
     "metadata": {},
     "output_type": "execute_result"
    }
   ],
   "source": [
    "selected_saturday = pd.read_csv(\"../linear-program/output/selectedRoutesSaturday.csv\").drop(columns=\"Demand\")\n",
    "selected_saturday.head()"
   ]
  },
  {
   "cell_type": "code",
   "execution_count": 16,
   "metadata": {},
   "outputs": [
    {
     "data": {
      "text/html": [
       "<div>\n",
       "<style scoped>\n",
       "    .dataframe tbody tr th:only-of-type {\n",
       "        vertical-align: middle;\n",
       "    }\n",
       "\n",
       "    .dataframe tbody tr th {\n",
       "        vertical-align: top;\n",
       "    }\n",
       "\n",
       "    .dataframe thead th {\n",
       "        text-align: right;\n",
       "    }\n",
       "</style>\n",
       "<table border=\"1\" class=\"dataframe\">\n",
       "  <thead>\n",
       "    <tr style=\"text-align: right;\">\n",
       "      <th></th>\n",
       "      <th>Route</th>\n",
       "      <th>TruckType</th>\n",
       "      <th>RouteCost</th>\n",
       "    </tr>\n",
       "  </thead>\n",
       "  <tbody>\n",
       "    <tr>\n",
       "      <th>0</th>\n",
       "      <td>['Warehouse', 'Four Square Glen Eden', \"Pak 'n...</td>\n",
       "      <td>OwnedTruck</td>\n",
       "      <td>317.127667</td>\n",
       "    </tr>\n",
       "    <tr>\n",
       "      <th>1</th>\n",
       "      <td>['Warehouse', \"Pak 'n Save Lincoln Road\", 'War...</td>\n",
       "      <td>OwnedTruck</td>\n",
       "      <td>104.192500</td>\n",
       "    </tr>\n",
       "    <tr>\n",
       "      <th>2</th>\n",
       "      <td>['Warehouse', \"Pak 'n Save Westgate\", 'Warehou...</td>\n",
       "      <td>OwnedTruck</td>\n",
       "      <td>118.685417</td>\n",
       "    </tr>\n",
       "    <tr>\n",
       "      <th>3</th>\n",
       "      <td>['Warehouse', 'Four Square Everglade', 'New Wo...</td>\n",
       "      <td>OwnedTruck</td>\n",
       "      <td>271.918833</td>\n",
       "    </tr>\n",
       "    <tr>\n",
       "      <th>4</th>\n",
       "      <td>['Warehouse', 'Four Square Alberton', 'Four Sq...</td>\n",
       "      <td>OwnedTruck</td>\n",
       "      <td>387.919750</td>\n",
       "    </tr>\n",
       "  </tbody>\n",
       "</table>\n",
       "</div>"
      ],
      "text/plain": [
       "                                               Route   TruckType   RouteCost\n",
       "0  ['Warehouse', 'Four Square Glen Eden', \"Pak 'n...  OwnedTruck  317.127667\n",
       "1  ['Warehouse', \"Pak 'n Save Lincoln Road\", 'War...  OwnedTruck  104.192500\n",
       "2  ['Warehouse', \"Pak 'n Save Westgate\", 'Warehou...  OwnedTruck  118.685417\n",
       "3  ['Warehouse', 'Four Square Everglade', 'New Wo...  OwnedTruck  271.918833\n",
       "4  ['Warehouse', 'Four Square Alberton', 'Four Sq...  OwnedTruck  387.919750"
      ]
     },
     "execution_count": 16,
     "metadata": {},
     "output_type": "execute_result"
    }
   ],
   "source": [
    "selected_weekday = pd.read_csv(\"../linear-program/output/selectedRoutesWeekday.csv\").drop(columns=\"Demand\")\n",
    "selected_weekday.head()"
   ]
  },
  {
   "cell_type": "code",
   "execution_count": 17,
   "metadata": {},
   "outputs": [],
   "source": [
    "def calculate_total_cost(saturday_demands, weekday_demands, extra_trucks=0):\n",
    "    trucks = 12 + extra_trucks\n",
    "    saturday_runs = simulate_runs(\n",
    "        selected_saturday, saturday_demands, durations, \"Saturday\", trucks=trucks\n",
    "    )\n",
    "    \n",
    "    weekday_runs = simulate_runs(\n",
    "        selected_weekday, weekday_demands, durations, \"Weekdays\", trucks=trucks\n",
    "    )\n",
    "    \n",
    "    return sum(saturday_runs.Cost) + sum(weekday_runs.Cost) + extra_trucks*200000\n"
   ]
  },
  {
   "cell_type": "code",
   "execution_count": 18,
   "metadata": {},
   "outputs": [
    {
     "name": "stdout",
     "output_type": "stream",
     "text": [
      "Run 1\n",
      "Run 2\n",
      "Run 3\n",
      "Run 4\n",
      "Run 5\n",
      "Run 6\n",
      "Run 7\n",
      "Run 8\n",
      "Run 9\n",
      "Run 10\n",
      "Run 11\n",
      "Run 12\n",
      "Run 13\n",
      "Run 14\n",
      "Run 15\n",
      "Run 16\n",
      "Run 17\n",
      "Run 18\n",
      "Run 19\n",
      "Run 20\n"
     ]
    }
   ],
   "source": [
    "runs = 20\n",
    "normal_costs = []\n",
    "extra_costs = []\n",
    "\n",
    "for i in range(runs):\n",
    "    print(f\"Run {i+1}\")\n",
    "    saturday_demands = bootstrap_demand(260, stores, demands, \"Saturday\")\n",
    "    weekday_demands = bootstrap_demand(1300, stores, demands, \"Weekdays\")\n",
    "    \n",
    "    normal_costs.append(calculate_total_cost(saturday_demands, weekday_demands))\n",
    "    extra_costs.append(calculate_total_cost(saturday_demands, weekday_demands, extra_trucks=1))"
   ]
  },
  {
   "cell_type": "code",
   "execution_count": 19,
   "metadata": {},
   "outputs": [
    {
     "name": "stdout",
     "output_type": "stream",
     "text": [
      "Mean Cost without Extra Trucks: $7298966.34\n",
      "Mean Cost with One Extra Truck: $7492426.39\n"
     ]
    }
   ],
   "source": [
    "print(f\"Mean Cost without Extra Trucks: ${round(np.mean(normal_costs), 2)}\")\n",
    "print(f\"Mean Cost with One Extra Truck: ${round(np.mean(extra_costs), 2)}\")"
   ]
  },
  {
   "cell_type": "code",
   "execution_count": 20,
   "metadata": {},
   "outputs": [
    {
     "data": {
      "text/html": [
       "<div>\n",
       "<style scoped>\n",
       "    .dataframe tbody tr th:only-of-type {\n",
       "        vertical-align: middle;\n",
       "    }\n",
       "\n",
       "    .dataframe tbody tr th {\n",
       "        vertical-align: top;\n",
       "    }\n",
       "\n",
       "    .dataframe thead th {\n",
       "        text-align: right;\n",
       "    }\n",
       "</style>\n",
       "<table border=\"1\" class=\"dataframe\">\n",
       "  <thead>\n",
       "    <tr style=\"text-align: right;\">\n",
       "      <th></th>\n",
       "      <th>Normal</th>\n",
       "      <th>OneExtraTruck</th>\n",
       "    </tr>\n",
       "  </thead>\n",
       "  <tbody>\n",
       "    <tr>\n",
       "      <th>0</th>\n",
       "      <td>7.300719e+06</td>\n",
       "      <td>7.498107e+06</td>\n",
       "    </tr>\n",
       "    <tr>\n",
       "      <th>1</th>\n",
       "      <td>7.305924e+06</td>\n",
       "      <td>7.503312e+06</td>\n",
       "    </tr>\n",
       "    <tr>\n",
       "      <th>2</th>\n",
       "      <td>7.281181e+06</td>\n",
       "      <td>7.481181e+06</td>\n",
       "    </tr>\n",
       "    <tr>\n",
       "      <th>3</th>\n",
       "      <td>7.293600e+06</td>\n",
       "      <td>7.488353e+06</td>\n",
       "    </tr>\n",
       "    <tr>\n",
       "      <th>4</th>\n",
       "      <td>7.303902e+06</td>\n",
       "      <td>7.496066e+06</td>\n",
       "    </tr>\n",
       "  </tbody>\n",
       "</table>\n",
       "</div>"
      ],
      "text/plain": [
       "         Normal  OneExtraTruck\n",
       "0  7.300719e+06   7.498107e+06\n",
       "1  7.305924e+06   7.503312e+06\n",
       "2  7.281181e+06   7.481181e+06\n",
       "3  7.293600e+06   7.488353e+06\n",
       "4  7.303902e+06   7.496066e+06"
      ]
     },
     "execution_count": 20,
     "metadata": {},
     "output_type": "execute_result"
    }
   ],
   "source": [
    "costs = pd.DataFrame({\n",
    "    \"Normal\": normal_costs,\n",
    "    \"OneExtraTruck\": extra_costs\n",
    "})\n",
    "\n",
    "costs.head()"
   ]
  },
  {
   "cell_type": "code",
   "execution_count": 21,
   "metadata": {},
   "outputs": [],
   "source": [
    "def plot_pdf(data, title=None, xlabel=None):\n",
    "    bin_range = lambda data: range(min(data), max(data) + 2)\n",
    "\n",
    "    fig, ax = plt.subplots()\n",
    "\n",
    "    ax.hist(\n",
    "        data,\n",
    "        density=True,\n",
    "        alpha=0.2,\n",
    "        histtype=\"stepfilled\"\n",
    "    )\n",
    "    \n",
    "    ax.set_title(title)\n",
    "    ax.set_xlabel(xlabel)\n",
    "    ax.set_ylabel(\"Probability density\")\n"
   ]
  },
  {
   "cell_type": "code",
   "execution_count": 22,
   "metadata": {},
   "outputs": [
    {
     "data": {
      "image/png": "[encoded data removed]",
      "text/plain": [
       "<Figure size 640x480 with 1 Axes>"
      ]
     },
     "metadata": {},
     "output_type": "display_data"
    }
   ],
   "source": [
    "plot_pdf(costs.Normal)"
   ]
  },
  {
   "cell_type": "code",
   "execution_count": 23,
   "metadata": {},
   "outputs": [
    {
     "data": {
      "image/png": "[encoded data removed]",
      "text/plain": [
       "<Figure size 640x480 with 1 Axes>"
      ]
     },
     "metadata": {},
     "output_type": "display_data"
    }
   ],
   "source": [
    "plot_pdf(costs.OneExtraTruck)"
   ]
  },
  {
   "cell_type": "code",
   "execution_count": 24,
   "metadata": {},
   "outputs": [
    {
     "data": {
      "text/plain": [
       "<AxesSubplot: xlabel='Simulation', ylabel='Cost'>"
      ]
     },
     "execution_count": 24,
     "metadata": {},
     "output_type": "execute_result"
    },
    {
     "data": {
      "image/png": "[encoded data removed]",
      "text/plain": [
       "<Figure size 640x480 with 1 Axes>"
      ]
     },
     "metadata": {},
     "output_type": "display_data"
    }
   ],
   "source": [
    "pivoted_costs = costs.melt(var_name=\"Simulation\", value_name=\"Cost\")\n",
    "sns.boxplot(x=\"Simulation\", y=\"Cost\", data=pivoted_costs)\n",
    "sns.stripplot(x=\"Simulation\", y=\"Cost\", data=pivoted_costs, color=\".5\")"
   ]
  },
  {
   "cell_type": "code",
   "execution_count": 25,
   "metadata": {},
   "outputs": [
    {
     "data": {
      "text/plain": [
       "0   -197387.919750\n",
       "1   -197387.919750\n",
       "2   -200000.000000\n",
       "3   -194753.747667\n",
       "4   -192163.759250\n",
       "dtype: float64"
      ]
     },
     "execution_count": 25,
     "metadata": {},
     "output_type": "execute_result"
    }
   ],
   "source": [
    "difference = costs.Normal - costs.OneExtraTruck\n",
    "difference.head()"
   ]
  },
  {
   "cell_type": "code",
   "execution_count": 26,
   "metadata": {},
   "outputs": [
    {
     "name": "stdout",
     "output_type": "stream",
     "text": [
      "(-195170.89879109335, -191749.19031723953)\n",
      "Ttest_1sampResult(statistic=-236.67505862222734, pvalue=1.9714271934483734e-34)\n"
     ]
    }
   ],
   "source": [
    "print(sms.DescrStatsW(difference).tconfint_mean(alpha = 0.05))\n",
    "print(stats.ttest_1samp(difference, 0))"
   ]
  }
 ],
 "metadata": {
  "kernelspec": {
   "display_name": "Python 3.10.5 ('env': venv)",
   "language": "python",
   "name": "python3"
  },
  "language_info": {
   "codemirror_mode": {
    "name": "ipython",
    "version": 3
   },
   "file_extension": ".py",
   "mimetype": "text/x-python",
   "name": "python",
   "nbconvert_exporter": "python",
   "pygments_lexer": "ipython3",
   "version": "3.10.5"
  },
  "orig_nbformat": 4,
  "vscode": {
   "interpreter": {
    "hash": "b9802198530425692927ed4d19a712402a29f50beecaed8989c38bdb6d569a2f"
   }
  }
 },
 "nbformat": 4,
 "nbformat_minor": 2
}
