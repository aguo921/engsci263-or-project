{
 "cells": [
  {
   "cell_type": "code",
   "execution_count": 1,
   "metadata": {},
   "outputs": [],
   "source": [
    "from lp_formulation import *\n"
   ]
  },
  {
   "cell_type": "code",
   "execution_count": 2,
   "metadata": {},
   "outputs": [],
   "source": [
    "nodes = pd.read_csv(\"../foodstuffs-data/FoodstuffsDemands.csv\").Supermarket.values.tolist()\n",
    "weekdayRouteCosts = read_routes_costs(\"../route-generation/output/WeekdayRoutes.csv\")\n",
    "saturdayRouteCosts = read_routes_costs(\"../route-generation/output/SaturdayRoutes.csv\")"
   ]
  },
  {
   "cell_type": "code",
   "execution_count": 3,
   "metadata": {},
   "outputs": [
    {
     "name": "stdout",
     "output_type": "stream",
     "text": [
      "ENGSCI 263 OR Project Group 10 \n",
      "\n",
      "Status: Optimal\n",
      "Route_r109 = 1.0\n",
      "Route_r122 = 1.0\n",
      "Route_r124 = 1.0\n",
      "Route_r14 = 1.0\n",
      "Route_r156 = 1.0\n",
      "Route_r278 = 1.0\n",
      "Route_r36 = 1.0\n",
      "Route_r382 = 1.0\n",
      "Route_r418 = 1.0\n",
      "Route_r419 = 1.0\n",
      "Route_r426 = 1.0\n",
      "Route_r429 = 1.0\n",
      "Route_r44 = 1.0\n",
      "Route_r486 = 1.0\n",
      "Route_r505 = 1.0\n",
      "Route_r528 = 1.0\n",
      "Route_r563 = 1.0\n",
      "Route_r606 = 1.0\n",
      "Route_r70 = 1.0\n",
      "Route_r78 = 1.0\n",
      "Total cost for VRP =  6822.55425\n"
     ]
    },
    {
     "data": {
      "text/html": [
       "<div>\n",
       "<style scoped>\n",
       "    .dataframe tbody tr th:only-of-type {\n",
       "        vertical-align: middle;\n",
       "    }\n",
       "\n",
       "    .dataframe tbody tr th {\n",
       "        vertical-align: top;\n",
       "    }\n",
       "\n",
       "    .dataframe thead th {\n",
       "        text-align: right;\n",
       "    }\n",
       "</style>\n",
       "<table border=\"1\" class=\"dataframe\">\n",
       "  <thead>\n",
       "    <tr style=\"text-align: right;\">\n",
       "      <th></th>\n",
       "      <th>RouteNum</th>\n",
       "      <th>Route</th>\n",
       "      <th>TruckType</th>\n",
       "      <th>RouteCost</th>\n",
       "      <th>Demand</th>\n",
       "    </tr>\n",
       "  </thead>\n",
       "  <tbody>\n",
       "    <tr>\n",
       "      <th>r109</th>\n",
       "      <td>r109</td>\n",
       "      <td>['Warehouse', 'Four Square Glen Eden', \"Pak 'n...</td>\n",
       "      <td>OwnedTruck</td>\n",
       "      <td>317.127667</td>\n",
       "      <td>16</td>\n",
       "    </tr>\n",
       "    <tr>\n",
       "      <th>r122</th>\n",
       "      <td>r122</td>\n",
       "      <td>['Warehouse', \"Pak 'n Save Lincoln Road\", 'War...</td>\n",
       "      <td>OwnedTruck</td>\n",
       "      <td>104.192500</td>\n",
       "      <td>9</td>\n",
       "    </tr>\n",
       "    <tr>\n",
       "      <th>r124</th>\n",
       "      <td>r124</td>\n",
       "      <td>['Warehouse', \"Pak 'n Save Westgate\", 'Warehou...</td>\n",
       "      <td>OwnedTruck</td>\n",
       "      <td>118.685417</td>\n",
       "      <td>9</td>\n",
       "    </tr>\n",
       "    <tr>\n",
       "      <th>r14</th>\n",
       "      <td>r14</td>\n",
       "      <td>['Warehouse', 'Four Square Everglade', 'New Wo...</td>\n",
       "      <td>OwnedTruck</td>\n",
       "      <td>271.918833</td>\n",
       "      <td>15</td>\n",
       "    </tr>\n",
       "    <tr>\n",
       "      <th>r156</th>\n",
       "      <td>r156</td>\n",
       "      <td>['Warehouse', 'Four Square Alberton', 'Four Sq...</td>\n",
       "      <td>OwnedTruck</td>\n",
       "      <td>387.919750</td>\n",
       "      <td>16</td>\n",
       "    </tr>\n",
       "  </tbody>\n",
       "</table>\n",
       "</div>"
      ],
      "text/plain": [
       "     RouteNum                                              Route   TruckType  \\\n",
       "r109     r109  ['Warehouse', 'Four Square Glen Eden', \"Pak 'n...  OwnedTruck   \n",
       "r122     r122  ['Warehouse', \"Pak 'n Save Lincoln Road\", 'War...  OwnedTruck   \n",
       "r124     r124  ['Warehouse', \"Pak 'n Save Westgate\", 'Warehou...  OwnedTruck   \n",
       "r14       r14  ['Warehouse', 'Four Square Everglade', 'New Wo...  OwnedTruck   \n",
       "r156     r156  ['Warehouse', 'Four Square Alberton', 'Four Sq...  OwnedTruck   \n",
       "\n",
       "       RouteCost  Demand  \n",
       "r109  317.127667      16  \n",
       "r122  104.192500       9  \n",
       "r124  118.685417       9  \n",
       "r14   271.918833      15  \n",
       "r156  387.919750      16  "
      ]
     },
     "execution_count": 3,
     "metadata": {},
     "output_type": "execute_result"
    }
   ],
   "source": [
    "selectedRoutesWeekday, objectiveWeekday = route_selection_lp(weekdayRouteCosts, nodes, \"output/RouteLp.lp\")\n",
    "\n",
    "weekday_df = pd.DataFrame(weekdayRouteCosts, index=selectedRoutesWeekday)\n",
    "weekday_df.head()"
   ]
  },
  {
   "cell_type": "code",
   "execution_count": 4,
   "metadata": {},
   "outputs": [
    {
     "name": "stdout",
     "output_type": "stream",
     "text": [
      "ENGSCI 263 OR Project Group 10 \n",
      "\n",
      "Status: Optimal\n",
      "Route_r105 = 1.0\n",
      "Route_r133 = 1.0\n",
      "Route_r1563 = 1.0\n",
      "Route_r1568 = 1.0\n",
      "Route_r1915 = 1.0\n",
      "Route_r2128 = 1.0\n",
      "Route_r29 = 1.0\n",
      "Route_r384 = 1.0\n",
      "Route_r440 = 1.0\n",
      "Route_r527 = 1.0\n",
      "Total cost for VRP =  3890.0035\n"
     ]
    },
    {
     "data": {
      "text/html": [
       "<div>\n",
       "<style scoped>\n",
       "    .dataframe tbody tr th:only-of-type {\n",
       "        vertical-align: middle;\n",
       "    }\n",
       "\n",
       "    .dataframe tbody tr th {\n",
       "        vertical-align: top;\n",
       "    }\n",
       "\n",
       "    .dataframe thead th {\n",
       "        text-align: right;\n",
       "    }\n",
       "</style>\n",
       "<table border=\"1\" class=\"dataframe\">\n",
       "  <thead>\n",
       "    <tr style=\"text-align: right;\">\n",
       "      <th></th>\n",
       "      <th>RouteNum</th>\n",
       "      <th>Route</th>\n",
       "      <th>TruckType</th>\n",
       "      <th>RouteCost</th>\n",
       "      <th>Demand</th>\n",
       "    </tr>\n",
       "  </thead>\n",
       "  <tbody>\n",
       "    <tr>\n",
       "      <th>r105</th>\n",
       "      <td>r105</td>\n",
       "      <td>['Warehouse', 'New World Papakura', \"Pak 'n Sa...</td>\n",
       "      <td>OwnedTruck</td>\n",
       "      <td>294.5460</td>\n",
       "      <td>16</td>\n",
       "    </tr>\n",
       "    <tr>\n",
       "      <th>r133</th>\n",
       "      <td>r133</td>\n",
       "      <td>['Warehouse', 'New World Mt Roskill', 'New Wor...</td>\n",
       "      <td>OwnedTruck</td>\n",
       "      <td>192.6705</td>\n",
       "      <td>11</td>\n",
       "    </tr>\n",
       "    <tr>\n",
       "      <th>r1563</th>\n",
       "      <td>r1563</td>\n",
       "      <td>['Warehouse', \"Pak 'n Save Wairau Road\", 'New ...</td>\n",
       "      <td>OwnedTruck</td>\n",
       "      <td>332.3620</td>\n",
       "      <td>14</td>\n",
       "    </tr>\n",
       "    <tr>\n",
       "      <th>r1568</th>\n",
       "      <td>r1568</td>\n",
       "      <td>['Warehouse', 'New World Birkenhead', 'Four Sq...</td>\n",
       "      <td>OwnedTruck</td>\n",
       "      <td>432.4040</td>\n",
       "      <td>15</td>\n",
       "    </tr>\n",
       "    <tr>\n",
       "      <th>r1915</th>\n",
       "      <td>r1915</td>\n",
       "      <td>['Warehouse', 'Four Square Alberton', 'New Wor...</td>\n",
       "      <td>OwnedTruck</td>\n",
       "      <td>260.3805</td>\n",
       "      <td>14</td>\n",
       "    </tr>\n",
       "  </tbody>\n",
       "</table>\n",
       "</div>"
      ],
      "text/plain": [
       "      RouteNum                                              Route   TruckType  \\\n",
       "r105      r105  ['Warehouse', 'New World Papakura', \"Pak 'n Sa...  OwnedTruck   \n",
       "r133      r133  ['Warehouse', 'New World Mt Roskill', 'New Wor...  OwnedTruck   \n",
       "r1563    r1563  ['Warehouse', \"Pak 'n Save Wairau Road\", 'New ...  OwnedTruck   \n",
       "r1568    r1568  ['Warehouse', 'New World Birkenhead', 'Four Sq...  OwnedTruck   \n",
       "r1915    r1915  ['Warehouse', 'Four Square Alberton', 'New Wor...  OwnedTruck   \n",
       "\n",
       "       RouteCost  Demand  \n",
       "r105    294.5460      16  \n",
       "r133    192.6705      11  \n",
       "r1563   332.3620      14  \n",
       "r1568   432.4040      15  \n",
       "r1915   260.3805      14  "
      ]
     },
     "execution_count": 4,
     "metadata": {},
     "output_type": "execute_result"
    }
   ],
   "source": [
    "selectedRoutesSaturday, objectiveSaturday = route_selection_lp(saturdayRouteCosts, nodes, \"output/RouteLp.lp\")\n",
    "\n",
    "saturday_df = pd.DataFrame(saturdayRouteCosts, index=selectedRoutesSaturday)\n",
    "saturday_df.head()"
   ]
  },
  {
   "cell_type": "code",
   "execution_count": 5,
   "metadata": {},
   "outputs": [],
   "source": [
    "weekday_df.drop(columns='RouteNum').to_csv(\"output/SelectedRoutesWeekday.csv\", index=False)\n",
    "saturday_df.drop(columns='RouteNum').to_csv(\"output/SelectedRoutesSaturday.csv\", index=False)"
   ]
  }
 ],
 "metadata": {
  "kernelspec": {
   "display_name": "Python 3.10.5 ('env': venv)",
   "language": "python",
   "name": "python3"
  },
  "language_info": {
   "codemirror_mode": {
    "name": "ipython",
    "version": 3
   },
   "file_extension": ".py",
   "mimetype": "text/x-python",
   "name": "python",
   "nbconvert_exporter": "python",
   "pygments_lexer": "ipython3",
   "version": "3.10.5"
  },
  "orig_nbformat": 4,
  "vscode": {
   "interpreter": {
    "hash": "b9802198530425692927ed4d19a712402a29f50beecaed8989c38bdb6d569a2f"
   }
  }
 },
 "nbformat": 4,
 "nbformat_minor": 2
}
