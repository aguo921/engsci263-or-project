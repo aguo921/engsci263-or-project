{
 "cells": [
  {
   "cell_type": "code",
   "execution_count": null,
   "metadata": {},
   "outputs": [
    {
     "ename": "",
     "evalue": "",
     "output_type": "error",
     "traceback": [
      "\u001b[1;31mRunning cells with 'Python 3.10.5 ('env': venv)' requires ipykernel package.\n",
      "\u001b[1;31mRun the following command to install 'ipykernel' into the Python environment. \n",
      "\u001b[1;31mCommand: '\"c:/Users/Angela (school)/OneDrive - The University of Auckland/Documents/2022 S2/ENGSCI 263/restructure-branch/engsci263-or-project/env/Scripts/python.exe\" -m pip install ipykernel -U --force-reinstall'"
     ]
    }
   ],
   "source": [
    "from dotenv import load_dotenv\n",
    "import os\n",
    "\n",
    "load_dotenv()\n",
    "ORSkey=os.environ['ORSkey']"
   ]
  },
  {
   "cell_type": "code",
   "execution_count": null,
   "metadata": {},
   "outputs": [
    {
     "ename": "",
     "evalue": "",
     "output_type": "error",
     "traceback": [
      "\u001b[1;31mRunning cells with 'Python 3.10.5 ('env': venv)' requires ipykernel package.\n",
      "\u001b[1;31mRun the following command to install 'ipykernel' into the Python environment. \n",
      "\u001b[1;31mCommand: '\"c:/Users/Angela (school)/OneDrive - The University of Auckland/Documents/2022 S2/ENGSCI 263/restructure-branch/engsci263-or-project/env/Scripts/python.exe\" -m pip install ipykernel -U --force-reinstall'"
     ]
    }
   ],
   "source": [
    "import numpy as np\n",
    "import pandas as pd\n",
    "import folium\n",
    "import ast\n",
    "import openrouteservice as ors\n",
    "import random"
   ]
  },
  {
   "cell_type": "code",
   "execution_count": null,
   "metadata": {},
   "outputs": [
    {
     "ename": "",
     "evalue": "",
     "output_type": "error",
     "traceback": [
      "\u001b[1;31mRunning cells with 'Python 3.10.5 ('env': venv)' requires ipykernel package.\n",
      "\u001b[1;31mRun the following command to install 'ipykernel' into the Python environment. \n",
      "\u001b[1;31mCommand: '\"c:/Users/Angela (school)/OneDrive - The University of Auckland/Documents/2022 S2/ENGSCI 263/restructure-branch/engsci263-or-project/env/Scripts/python.exe\" -m pip install ipykernel -U --force-reinstall'"
     ]
    }
   ],
   "source": [
    "locations = pd.read_csv(\"../foodstuffs-data/FoodstuffsLocations.csv\")\n",
    "locations.head()"
   ]
  },
  {
   "cell_type": "code",
   "execution_count": null,
   "metadata": {},
   "outputs": [
    {
     "ename": "",
     "evalue": "",
     "output_type": "error",
     "traceback": [
      "\u001b[1;31mRunning cells with 'Python 3.10.5 ('env': venv)' requires ipykernel package.\n",
      "\u001b[1;31mRun the following command to install 'ipykernel' into the Python environment. \n",
      "\u001b[1;31mCommand: '\"c:/Users/Angela (school)/OneDrive - The University of Auckland/Documents/2022 S2/ENGSCI 263/restructure-branch/engsci263-or-project/env/Scripts/python.exe\" -m pip install ipykernel -U --force-reinstall'"
     ]
    }
   ],
   "source": [
    "selected_saturday = pd.read_csv(\"../linear-program/output/SelectedRoutesSaturday.csv\")\n",
    "selected_saturday.head()"
   ]
  },
  {
   "cell_type": "code",
   "execution_count": null,
   "metadata": {},
   "outputs": [
    {
     "ename": "",
     "evalue": "",
     "output_type": "error",
     "traceback": [
      "\u001b[1;31mRunning cells with 'Python 3.10.5 ('env': venv)' requires ipykernel package.\n",
      "\u001b[1;31mRun the following command to install 'ipykernel' into the Python environment. \n",
      "\u001b[1;31mCommand: '\"c:/Users/Angela (school)/OneDrive - The University of Auckland/Documents/2022 S2/ENGSCI 263/restructure-branch/engsci263-or-project/env/Scripts/python.exe\" -m pip install ipykernel -U --force-reinstall'"
     ]
    }
   ],
   "source": [
    "selected_weekday = pd.read_csv(\"../linear-program/output/SelectedRoutesWeekday.csv\")\n",
    "selected_weekday.head()"
   ]
  },
  {
   "cell_type": "code",
   "execution_count": null,
   "metadata": {},
   "outputs": [
    {
     "ename": "",
     "evalue": "",
     "output_type": "error",
     "traceback": [
      "\u001b[1;31mRunning cells with 'Python 3.10.5 ('env': venv)' requires ipykernel package.\n",
      "\u001b[1;31mRun the following command to install 'ipykernel' into the Python environment. \n",
      "\u001b[1;31mCommand: '\"c:/Users/Angela (school)/OneDrive - The University of Auckland/Documents/2022 S2/ENGSCI 263/restructure-branch/engsci263-or-project/env/Scripts/python.exe\" -m pip install ipykernel -U --force-reinstall'"
     ]
    }
   ],
   "source": [
    "def initialise_map(locations):\n",
    "    coords = locations[['Long', 'Lat']] # Mapping packages work with Long, Lat arrays\n",
    "    coords = coords.to_numpy().tolist() # Make the arrays into a list of lists.\n",
    "    # Folium, however, requires Lat, Long arrays - so a reversal is needed.\n",
    "    # coords[0] is the warehouse\n",
    "    m = folium.Map(location = list(reversed(coords[2])), zoom_start=10.25)\n",
    "    for i in range(len(locations)):\n",
    "        if locations.Type[i] == \"Four Square\":\n",
    "            icon_url = \"store_green.png\"\n",
    "        elif locations.Type[i] == \"New World\":\n",
    "            icon_url = \"store_red.png\"\n",
    "        elif locations.Type[i] == \"Pak 'n Save\":\n",
    "            icon_url = \"store_orange.png\"\n",
    "        elif locations.Type[i] == \"Warehouse\":\n",
    "            icon_url = \"warehouse.png\"\n",
    "        icon = folium.features.CustomIcon(icon_url, icon_size=(16, 16))\n",
    "        folium.Marker(\n",
    "            list(reversed(coords[i])),\n",
    "            popup = locations.Supermarket[i],\n",
    "            icon = icon # folium.Icon(color = iconCol)\n",
    "        ).add_to(m)\n",
    "    return m"
   ]
  },
  {
   "cell_type": "code",
   "execution_count": null,
   "metadata": {},
   "outputs": [
    {
     "ename": "",
     "evalue": "",
     "output_type": "error",
     "traceback": [
      "\u001b[1;31mRunning cells with 'Python 3.10.5 ('env': venv)' requires ipykernel package.\n",
      "\u001b[1;31mRun the following command to install 'ipykernel' into the Python environment. \n",
      "\u001b[1;31mCommand: '\"c:/Users/Angela (school)/OneDrive - The University of Auckland/Documents/2022 S2/ENGSCI 263/restructure-branch/engsci263-or-project/env/Scripts/python.exe\" -m pip install ipykernel -U --force-reinstall'"
     ]
    }
   ],
   "source": [
    "def find_driving_route(coords):\n",
    "    client = ors.Client(key=ORSkey)\n",
    "    \n",
    "    return client.directions(\n",
    "        coordinates = coords,\n",
    "        profile = 'driving-hgv', # can be driving-car, driving-hgv, etc.\n",
    "        format='geojson',\n",
    "        validate = False\n",
    "    )"
   ]
  },
  {
   "cell_type": "code",
   "execution_count": null,
   "metadata": {},
   "outputs": [
    {
     "ename": "",
     "evalue": "",
     "output_type": "error",
     "traceback": [
      "\u001b[1;31mRunning cells with 'Python 3.10.5 ('env': venv)' requires ipykernel package.\n",
      "\u001b[1;31mRun the following command to install 'ipykernel' into the Python environment. \n",
      "\u001b[1;31mCommand: '\"c:/Users/Angela (school)/OneDrive - The University of Auckland/Documents/2022 S2/ENGSCI 263/restructure-branch/engsci263-or-project/env/Scripts/python.exe\" -m pip install ipykernel -U --force-reinstall'"
     ]
    }
   ],
   "source": [
    "def plot_routes(locations, routes, m):\n",
    "    route_list = [ast.literal_eval(route) for route in routes.Route.values.tolist()]\n",
    "    for route in route_list:\n",
    "        coord_list = []\n",
    "        for node in route:\n",
    "            coord = locations[locations.Supermarket==node][['Long', 'Lat']]\n",
    "            coord = coord.to_numpy().tolist()\n",
    "            coord_list.append(coord[0])\n",
    "        \n",
    "        driving_route = find_driving_route(coord_list)\n",
    "        coordinates = driving_route['features'][0]['geometry']['coordinates']\n",
    "        folium.PolyLine(\n",
    "            locations = [list(reversed(coord)) for coord in coordinates],\n",
    "            color = '#' + ''.join([random.choice('ABCDEF0123456789') for i in range(6)])\n",
    "        ).add_to(m)\n",
    "    return m"
   ]
  },
  {
   "cell_type": "code",
   "execution_count": null,
   "metadata": {},
   "outputs": [
    {
     "ename": "",
     "evalue": "",
     "output_type": "error",
     "traceback": [
      "\u001b[1;31mRunning cells with 'Python 3.10.5 ('env': venv)' requires ipykernel package.\n",
      "\u001b[1;31mRun the following command to install 'ipykernel' into the Python environment. \n",
      "\u001b[1;31mCommand: '\"c:/Users/Angela (school)/OneDrive - The University of Auckland/Documents/2022 S2/ENGSCI 263/restructure-branch/engsci263-or-project/env/Scripts/python.exe\" -m pip install ipykernel -U --force-reinstall'"
     ]
    }
   ],
   "source": [
    "initialise_map(locations)"
   ]
  },
  {
   "cell_type": "code",
   "execution_count": null,
   "metadata": {},
   "outputs": [
    {
     "ename": "",
     "evalue": "",
     "output_type": "error",
     "traceback": [
      "\u001b[1;31mRunning cells with 'Python 3.10.5 ('env': venv)' requires ipykernel package.\n",
      "\u001b[1;31mRun the following command to install 'ipykernel' into the Python environment. \n",
      "\u001b[1;31mCommand: '\"c:/Users/Angela (school)/OneDrive - The University of Auckland/Documents/2022 S2/ENGSCI 263/restructure-branch/engsci263-or-project/env/Scripts/python.exe\" -m pip install ipykernel -U --force-reinstall'"
     ]
    }
   ],
   "source": [
    "saturday_map = initialise_map(locations)\n",
    "plot_routes(locations, selected_saturday, saturday_map)"
   ]
  },
  {
   "cell_type": "code",
   "execution_count": null,
   "metadata": {},
   "outputs": [
    {
     "ename": "",
     "evalue": "",
     "output_type": "error",
     "traceback": [
      "\u001b[1;31mRunning cells with 'Python 3.10.5 ('env': venv)' requires ipykernel package.\n",
      "\u001b[1;31mRun the following command to install 'ipykernel' into the Python environment. \n",
      "\u001b[1;31mCommand: '\"c:/Users/Angela (school)/OneDrive - The University of Auckland/Documents/2022 S2/ENGSCI 263/restructure-branch/engsci263-or-project/env/Scripts/python.exe\" -m pip install ipykernel -U --force-reinstall'"
     ]
    }
   ],
   "source": [
    "weekday_map = initialise_map(locations)\n",
    "plot_routes(locations, selected_weekday, weekday_map)"
   ]
  }
 ],
 "metadata": {
  "kernelspec": {
   "display_name": "Python 3.10.5 64-bit",
   "language": "python",
   "name": "python3"
  },
  "language_info": {
   "codemirror_mode": {
    "name": "ipython",
    "version": 3
   },
   "file_extension": ".py",
   "mimetype": "text/x-python",
   "name": "python",
   "nbconvert_exporter": "python",
   "pygments_lexer": "ipython3",
   "version": "3.10.5"
  },
  "orig_nbformat": 4,
  "vscode": {
   "interpreter": {
    "hash": "369f2c481f4da34e4445cda3fffd2e751bd1c4d706f27375911949ba6bb62e1c"
   }
  }
 },
 "nbformat": 4,
 "nbformat_minor": 2
}
